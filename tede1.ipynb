{
  "nbformat": 4,
  "nbformat_minor": 0,
  "metadata": {
    "colab": {
      "provenance": []
    },
    "kernelspec": {
      "name": "python3",
      "display_name": "Python 3"
    },
    "language_info": {
      "name": "python"
    }
  },
  "cells": [
    {
      "cell_type": "markdown",
      "source": [
        "sdi0800018 Μιχάλης Δεικτάκης\n",
        "sdi1800216 Ιωάννης Ψαρρός"
      ],
      "metadata": {
        "id": "GiR6trdkgRdr"
      }
    },
    {
      "cell_type": "markdown",
      "source": [],
      "metadata": {
        "id": "0552d6dfy9ak"
      }
    },
    {
      "cell_type": "code",
      "execution_count": null,
      "metadata": {
        "id": "QkcuzywGx6tt"
      },
      "outputs": [],
      "source": [
        "#Read from tsv\n",
        "import pandas as pd\n",
        "pd.__version__\n",
        "# df=pd.read_csv('data.tsv', sep=\"\\t\")\n",
        "df = pd.read_csv('data.csv', sep=\",\" , nrows = 20000)\n"
      ]
    },
    {
      "cell_type": "markdown",
      "source": [
        "**ΑΣΚΗΣΗ 1 - PREPROCESSING DATA**"
      ],
      "metadata": {
        "id": "ZrHhpOc7Jnyt"
      }
    },
    {
      "cell_type": "markdown",
      "source": [
        "Αρχικά κάνουμε preprocess το dataframe\n",
        "\n",
        "\n",
        "*   Αφαιρούμε τα links\n",
        "*   Μετατρέπουμε τα text σε πεζά\n",
        "*   Αφαιρούμε σημεία στίξης/hashtags/emoticons και τέλος τα stopwords\n",
        "\n",
        "Τέλος αφαιρούμε τις γραμμές όπου το text είναι κενό\n",
        "\n",
        "\n"
      ],
      "metadata": {
        "id": "C5U4stVbgO9C"
      }
    },
    {
      "cell_type": "code",
      "source": [
        "#Preprocessing\n",
        "#Remove Links\n",
        "df[\"text\"] = df[\"text\"].str.replace(r's*https?://S+(s+|$)', ' ',regex=True).str.strip()\n",
        "#To Lowercase\n",
        "df = df.applymap(lambda s: s.lower() if type(s) == str else s)\n",
        "#Remove Punctuation,hashtags,emoticons,emojis\n",
        "df[\"text\"]=df[\"text\"].replace(\"[^\\w\\s]\", \"\",regex=True)\n",
        "#Remove Stopwords\n",
        "from sklearn.feature_extraction import text\n",
        "stop = text.ENGLISH_STOP_WORDS\n",
        "\n",
        "#drop rows without text\n",
        "\n",
        "# df = df.replace(r'^s*$', float('NaN'), regex = True)\n",
        "df.dropna(subset = ['text'], inplace = True)\n",
        "\n",
        "df['text'] = df['text'].apply(lambda x: ' '.join([word for word in x.split() if word not in (stop)]))\n",
        "\n",
        "df.dropna(subset = ['text'], inplace = True)\n"
      ],
      "metadata": {
        "id": "z7KgMYHZ9QzP"
      },
      "execution_count": null,
      "outputs": []
    },
    {
      "cell_type": "markdown",
      "source": [
        "**ΑΣΚΗΣΗ 2 - DATA ANALYSIS**"
      ],
      "metadata": {
        "id": "D41IGT9xJvoE"
      }
    },
    {
      "cell_type": "markdown",
      "source": [
        "I) KATANOMH POSITIVE-NEUTRAL-NEGATIVE ΣΤΟ DATASET"
      ],
      "metadata": {
        "id": "1pJXRTqmJ7QU"
      }
    },
    {
      "cell_type": "code",
      "source": [
        "#Graphs 1\n",
        "#negative,neutral,positive distribution\n",
        "import matplotlib.pyplot as plt\n",
        "neg=0\n",
        "neut=0\n",
        "pos=0\n",
        "for sentiment in df['sentiment']:\n",
        "  if sentiment=='neg':\n",
        "    neg=neg+1\n",
        "  elif sentiment=='neu':\n",
        "    neut=neut+1\n",
        "  else:\n",
        "    pos=pos+1\n",
        "\n",
        "left=[0,df['sentiment'].size/2,df['sentiment'].size]\n",
        "height=[neg,neut,pos]\n",
        "tick_label=['negative','neutral','positive']\n",
        "plt.bar(left,height,tick_label=tick_label,width=500,color=['red','blue','green'])\n",
        "plt.xlabel('tweet sentiment')\n",
        "plt.ylabel('count')\n",
        "plt.show\n"
      ],
      "metadata": {
        "colab": {
          "base_uri": "https://localhost:8080/",
          "height": 296
        },
        "id": "fu7eczSGeMYP",
        "outputId": "471710dd-eb80-4a3d-e596-dc9e239bbd8f"
      },
      "execution_count": null,
      "outputs": [
        {
          "output_type": "execute_result",
          "data": {
            "text/plain": [
              "<function matplotlib.pyplot.show>"
            ]
          },
          "metadata": {},
          "execution_count": 25
        },
        {
          "output_type": "display_data",
          "data": {
            "text/plain": [
              "<Figure size 432x288 with 1 Axes>"
            ],
            "image/png": "[encoded data removed]"
          },
          "metadata": {
            "needs_background": "light"
          }
        }
      ]
    },
    {
      "cell_type": "markdown",
      "source": [
        "II) MOST COMMON WORDS ΣΕ ΟΛΟΚΛΗΡΟ ΤΟ DATASET"
      ],
      "metadata": {
        "id": "8KlJ94vIKZu3"
      }
    },
    {
      "cell_type": "code",
      "source": [
        "#Graphs 2\n",
        "#most common words\n",
        "from collections import Counter\n",
        "most_common=Counter(\" \".join(df[\"text\"]).split()).most_common(5)\n",
        "word_count=[]\n",
        "tick_labels=[]\n",
        "for item in most_common:\n",
        "  word_count.append(item[1])\n",
        "  tick_labels.append(item[0])\n",
        "\n",
        "plt.plot([1,2,3,4,5],word_count)\n",
        "plt.xticks([1,2,3,4,5],tick_labels)\n",
        "plt.show"
      ],
      "metadata": {
        "colab": {
          "base_uri": "https://localhost:8080/",
          "height": 282
        },
        "id": "-b92Oe3IhvkS",
        "outputId": "e8dc717e-7597-45d4-cf6a-ed6d7245c2df"
      },
      "execution_count": null,
      "outputs": [
        {
          "output_type": "execute_result",
          "data": {
            "text/plain": [
              "<function matplotlib.pyplot.show>"
            ]
          },
          "metadata": {},
          "execution_count": 178
        },
        {
          "output_type": "display_data",
          "data": {
            "text/plain": [
              "<Figure size 432x288 with 1 Axes>"
            ],
            "image/png": "[encoded data removed]"
          },
          "metadata": {
            "needs_background": "light"
          }
        }
      ]
    },
    {
      "cell_type": "markdown",
      "source": [
        "III) MOST COMMON WORDS ΣΤΑ TWEETS ΑΝΑΛΟΓΑ ΜΕ ΤΟ SENTIMENT"
      ],
      "metadata": {
        "id": "blkYxp3-KjHs"
      }
    },
    {
      "cell_type": "code",
      "source": [
        "#Graph3\n",
        "#most common words by sentiment\n",
        "neg_df=df.drop(df[df['sentiment']!='neg'].index)\n",
        "neu_df=df.drop(df[df['sentiment']!='neu'].index)\n",
        "pos_df=df.drop(df[df['sentiment']!='pos'].index)\n",
        "\n",
        "figure, axis = plt.subplots(2, 2)\n",
        "\n",
        "from collections import Counter\n",
        "most_common=Counter(\" \".join(neg_df[\"text\"]).split()).most_common(3)\n",
        "word_count=[]\n",
        "tick_labels=[]\n",
        "for item in most_common:\n",
        "  word_count.append(item[1])\n",
        "  tick_labels.append(item[0])\n",
        "\n",
        "axis[0,0].plot([1,2,3],word_count)\n",
        "axis[0,0].set_title('negative')\n",
        "plt.sca(axis[0,0])\n",
        "plt.xticks([1,2,3],tick_labels)\n",
        "\n",
        "\n",
        "from collections import Counter\n",
        "most_common=Counter(\" \".join(neu_df[\"text\"]).split()).most_common(3)\n",
        "word_count=[]\n",
        "tick_labels=[]\n",
        "for item in most_common:\n",
        "  word_count.append(item[1])\n",
        "  tick_labels.append(item[0])\n",
        "\n",
        "axis[0,1].plot([1,2,3],word_count)\n",
        "axis[0,1].set_title('neutral')\n",
        "plt.sca(axis[0,1])\n",
        "plt.xticks([1,2,3],tick_labels)\n",
        "from collections import Counter\n",
        "most_common=Counter(\" \".join(pos_df[\"text\"]).split()).most_common(3)\n",
        "word_count=[]\n",
        "tick_labels=[]\n",
        "for item in most_common:\n",
        "  word_count.append(item[1])\n",
        "  tick_labels.append(item[0])\n",
        "\n",
        "axis[1,0].plot([1,2,3],word_count)\n",
        "axis[1,0].set_title('positive')\n",
        "plt.sca(axis[1,0])\n",
        "plt.xticks([1,2,3],tick_labels)\n",
        "plt.tight_layout()\n",
        "plt.show\n"
      ],
      "metadata": {
        "colab": {
          "base_uri": "https://localhost:8080/",
          "height": 314
        },
        "id": "dK-Ypg4qswPM",
        "outputId": "5095d5d2-825f-43a0-e391-f8025a8a9954"
      },
      "execution_count": null,
      "outputs": [
        {
          "output_type": "execute_result",
          "data": {
            "text/plain": [
              "<function matplotlib.pyplot.show>"
            ]
          },
          "metadata": {},
          "execution_count": 179
        },
        {
          "output_type": "display_data",
          "data": {
            "text/plain": [
              "<Figure size 432x288 with 4 Axes>"
            ],
            "image/png": "[encoded data removed]"
          },
          "metadata": {
            "needs_background": "light"
          }
        }
      ]
    },
    {
      "cell_type": "markdown",
      "source": [
        "IV) ΠΟΣΟΣΤΑ ΕΜΦΑΝΙΣΗΣ ΣΥΝΑΙΣΘΗΜΑΤΩΝ ΓΙΑ ΤΑ ΔΙΑΦΟΡΕΤΙΚΑ ΕΜΒΟΛΙΑ"
      ],
      "metadata": {
        "id": "ubY2Jwu5K04V"
      }
    },
    {
      "cell_type": "code",
      "source": [
        "#Graph4\n",
        "#sentiment per vaccine word\n",
        "astra_df=df[df['text'].str.contains(\"astrazeneca\")]\n",
        "figure, axis = plt.subplots(2, 2)\n",
        "\n",
        "neg=0\n",
        "neut=0\n",
        "pos=0\n",
        "for sentiment in df['sentiment']:\n",
        "  if sentiment=='neg':\n",
        "    neg=neg+1\n",
        "  elif sentiment=='neu':\n",
        "    neut=neut+1\n",
        "  else:\n",
        "    pos=pos+1\n",
        "\n",
        "left=[0,df['sentiment'].size/2,df['sentiment'].size]\n",
        "height=[neg,neut,pos]\n",
        "tick_label=['negative','neutral','positive']\n",
        "axis[0,0].bar(left,height,tick_label=tick_label,width=500,color=['red','blue','green'])\n",
        "axis[0,0].set_title('astrazeneca')\n",
        "moderna_df=df[df['text'].str.contains(\"moderna\")]\n",
        "neg=0\n",
        "neut=0\n",
        "pos=0\n",
        "for sentiment in df['sentiment']:\n",
        "  if sentiment=='neg':\n",
        "    neg=neg+1\n",
        "  elif sentiment=='neu':\n",
        "    neut=neut+1\n",
        "  else:\n",
        "    pos=pos+1\n",
        "\n",
        "left=[0,df['sentiment'].size/2,df['sentiment'].size]\n",
        "height=[neg,neut,pos]\n",
        "tick_label=['negative','neutral','positive']\n",
        "axis[0,1].bar(left,height,tick_label=tick_label,width=500,color=['red','blue','green'])\n",
        "axis[0,1].set_title('moderna')\n",
        "pfizer_df=df[df['text'].str.contains(\"pfizer|biontech\")]\n",
        "\n",
        "neg=0\n",
        "neut=0\n",
        "pos=0\n",
        "for sentiment in df['sentiment']:\n",
        "  if sentiment=='neg':\n",
        "    neg=neg+1\n",
        "  elif sentiment=='neu':\n",
        "    neut=neut+1\n",
        "  else:\n",
        "    pos=pos+1\n",
        "\n",
        "left=[0,df['sentiment'].size/2,df['sentiment'].size]\n",
        "height=[neg,neut,pos]\n",
        "tick_label=['negative','neutral','positive']\n",
        "axis[1,0].bar(left,height,tick_label=tick_label,width=500,color=['red','blue','green'])\n",
        "axis[1,0].set_title('pfizer')\n",
        "plt.tight_layout()\n",
        "plt.show\n",
        "\n",
        "\n"
      ],
      "metadata": {
        "colab": {
          "base_uri": "https://localhost:8080/",
          "height": 314
        },
        "id": "QjlqhDBpxJrA",
        "outputId": "50e53d7a-6a27-4cc8-a8c0-b3e24d58e2c8"
      },
      "execution_count": null,
      "outputs": [
        {
          "output_type": "execute_result",
          "data": {
            "text/plain": [
              "<function matplotlib.pyplot.show>"
            ]
          },
          "metadata": {},
          "execution_count": 180
        },
        {
          "output_type": "display_data",
          "data": {
            "text/plain": [
              "<Figure size 432x288 with 4 Axes>"
            ],
            "image/png": "[encoded data removed]"
          },
          "metadata": {
            "needs_background": "light"
          }
        }
      ]
    },
    {
      "cell_type": "markdown",
      "source": [
        "ΕΝΑ WORD CLOUD ΠΟΥ ΔΕΙΧΝΕΙ ΚΥΡΙΩΣ ΤΙ ΛΕΞΕΙΣ ΠΟΥ ΕΜΦΑΝΙΖΟΝΤΑΙ ΣΥΧΝΟΤΕΡΑ ΣΤΑ TWEETS"
      ],
      "metadata": {
        "id": "OczEU4CGLMW4"
      }
    },
    {
      "cell_type": "code",
      "source": [
        "#Graph most common words(diko mas)\n",
        "from wordcloud import WordCloud\n",
        "# Join the different processed titles together.\n",
        "long_string = ','.join(list(df['text'].values))\n",
        "# Create a WordCloud object\n",
        "wordcloud = WordCloud(background_color=\"white\", max_words=5000, contour_width=3, contour_color='steelblue')\n",
        "# Generate a word cloud\n",
        "wordcloud.generate(long_string)\n",
        "# Visualize the word cloud\n",
        "wordcloud.to_image()"
      ],
      "metadata": {
        "colab": {
          "base_uri": "https://localhost:8080/",
          "height": 217
        },
        "id": "YafNVlVerBA6",
        "outputId": "ab67fd84-790c-4c15-8c69-a812cffd62f5"
      },
      "execution_count": null,
      "outputs": [
        {
          "output_type": "execute_result",
          "data": {
            "text/plain": [
              "<PIL.Image.Image image mode=RGB size=400x200 at 0x7FBDF9261110>"
            ],
            "image/png": "[encoded data removed]"
          },
          "metadata": {},
          "execution_count": 181
        }
      ]
    },
    {
      "cell_type": "code",
      "source": [
        "# import numpy as np\n",
        "# from sklearn.model_selection import train_test_split\n",
        "# train_df,test_df=train_test_split(df,test_size= 0.2 ,train_size=0.8)\n",
        "# train_df.to_csv('train.tsv',sep=\"\\t\")\n",
        "# test_df.to_csv('test.tsv',sep=\"\\t\")\n"
      ],
      "metadata": {
        "id": "u3aQ8nvOijPk"
      },
      "execution_count": null,
      "outputs": []
    },
    {
      "cell_type": "markdown",
      "source": [
        "SPLITING TO DATESET ΣΕ 10-FOLD CROSS VALITADION ΤΟ ΟΠΟΙΟ ΘΑ ΜΑΣ ΧΡΕΙΑΣΤΕΙ ΓΙΑ ΤΟ 4ο ΕΡΩΤΗΜΑ"
      ],
      "metadata": {
        "id": "zT6q_bU5Lj3A"
      }
    },
    {
      "cell_type": "code",
      "source": [
        "from sklearn.model_selection import KFold\n",
        "\n",
        "\n",
        "# USING K-FOLD TO CREATE DIFFERENT SELECTIONS\n",
        "kf = KFold(n_splits = 10, shuffle = True, random_state = 1)\n",
        "result = list(kf.split(df))\n",
        "\n",
        "train_df = []\n",
        "test_df = []\n",
        "for i in range(10):\n",
        "  train_df.append(df.iloc[result[i][0]])\n",
        "  test_df.append(df.iloc[result[i][1]])"
      ],
      "metadata": {
        "id": "6OGgMucjTPkU"
      },
      "execution_count": null,
      "outputs": []
    },
    {
      "cell_type": "markdown",
      "source": [
        "**ΑΣΚΗΣΗ 3 - VECTORIZATION**"
      ],
      "metadata": {
        "id": "az8dthUFLykA"
      }
    },
    {
      "cell_type": "markdown",
      "source": [
        "ΔΗΜΙΟΥΡΓΙΑ ΛΙΣΤΑΣ BOW/TFIDF/WORD EMBEDDINGS ΓΙΑ ΚΑΘΕ FOLD ΚΑΙ ΓΙΑ ΤΟ ΚΑΘΕ ΕΝΑ ΦΤΙΑΧΝΟΥΜΕ ΤΟ TRAIN ΚΑΙ TEST ARRAY ΑΝΤΙΣΤΟΙΧΑ\n"
      ],
      "metadata": {
        "id": "RvgFJjEnMZx2"
      }
    },
    {
      "cell_type": "markdown",
      "source": [
        "1)------Bag of Words------"
      ],
      "metadata": {
        "id": "aoDLRoULPPX8"
      }
    },
    {
      "cell_type": "code",
      "source": [
        "from sklearn.feature_extraction.text import CountVectorizer\n",
        "import pandas as pd\n",
        "import numpy as np\n",
        "\n",
        "bow_vectorizer = CountVectorizer(max_df=1.0, min_df=1, max_features=1000,\n",
        "stop_words='english')\n",
        "\n",
        "bow_xtrain = []\n",
        "bow_xtest = []\n",
        "# train and test arrays for BOW\n",
        "for i in range(10):\n",
        "  bow_xtrain.append(bow_vectorizer.fit_transform(train_df[i][\"text\"]))\n",
        "  bow_xtest.append(bow_vectorizer.fit_transform(test_df[i][\"text\"]))\n"
      ],
      "metadata": {
        "id": "UXSOLYUOPR9V"
      },
      "execution_count": null,
      "outputs": []
    },
    {
      "cell_type": "markdown",
      "source": [
        "2) -------TF-IDF---------"
      ],
      "metadata": {
        "id": "edpoXL5I63Lr"
      }
    },
    {
      "cell_type": "code",
      "source": [
        "from sklearn.feature_extraction.text import TfidfVectorizer\n",
        "\n",
        "tfidf_vectorizer = TfidfVectorizer(max_df=1.0, min_df=1, max_features=1000,stop_words='english')\n",
        "\n",
        "tfidf_train = []\n",
        "tfidf_test = []\n",
        "\n",
        "# train and test arrays for TF-IDF\n",
        "for i in range(10):\n",
        "  tfidf_train.append(tfidf_vectorizer.fit_transform(train_df[i][\"text\"]))\n",
        "  tfidf_test.append(tfidf_vectorizer.fit_transform(test_df[i][\"text\"]))"
      ],
      "metadata": {
        "id": "-7T4ROjO62bF"
      },
      "execution_count": null,
      "outputs": []
    },
    {
      "cell_type": "markdown",
      "source": [
        "3) ------- WORD EMBENDDINGS ----------"
      ],
      "metadata": {
        "id": "zRV1FxAUInd2"
      }
    },
    {
      "cell_type": "markdown",
      "source": [
        "EΔΩ ΘΑ ΧΡΗΣΙΜΟΠΟΙΗΣΟΥΜΕ ΤΟ ΜΟΝΤΕΛΟ ΑΠΟ ΤΟ ΔΙΚΟ ΜΑΣ DATASET ΚΥΡΙΩΣ ΓΙΑΤΙ ΕΙΝΑΙ ΠΟΛΥ ΙΔΙΑΙΤΕΡΟ (ΣΧΕΤΙΚΟ ΜΕ COVID) ΚΑΙ ΤΑ ΕΤΟΙΜΑ MONTΕΛΑ ΧΑΝΟΥΝ ΑΡΚΕΤΕΣ ΣΧΕΤΙΚΕΣ ΛΕΞΕΙΣ"
      ],
      "metadata": {
        "id": "5Qw5RgK3MmNo"
      }
    },
    {
      "cell_type": "code",
      "source": [
        "import gensim\n",
        "from gensim.models import Word2Vec , KeyedVectors\n",
        "\n",
        "TWEETS = df[\"text\"]\n",
        "\n",
        "# training W2C model on our tweets\n",
        "\n",
        "tokenized_tweet = TWEETS.apply(lambda x: x.split()) # tokenizing\n",
        "model_w2v = gensim.models.Word2Vec(\n",
        " tokenized_tweet,\n",
        " size=300, # desired no. of features/independent variables\n",
        " window=5, # context window size\n",
        " min_count=2,\n",
        " sg = 1, # 1 for skip-gram model\n",
        " hs = 0,\n",
        " negative = 10, # for negative sampling\n",
        " workers= 2, # no.of cores\n",
        " seed = 34)\n",
        "\n",
        "model_w2v.train(tokenized_tweet, total_examples= len(TWEETS), epochs=15)\n",
        "\n"
      ],
      "metadata": {
        "id": "fFDXo7tmI6Z9",
        "colab": {
          "base_uri": "https://localhost:8080/"
        },
        "outputId": "f74ad553-a7c5-4650-b0f3-f4579e655c5b"
      },
      "execution_count": null,
      "outputs": [
        {
          "output_type": "execute_result",
          "data": {
            "text/plain": [
              "(2307064, 3211170)"
            ]
          },
          "metadata": {},
          "execution_count": 30
        }
      ]
    },
    {
      "cell_type": "markdown",
      "source": [
        "ΣΥΝΑΡΤΗΣΗ ΓΙΑ ΤΟ VECTORIZATION ΤΩΝ TWEETS\n",
        "\n",
        "ΠΑΙΡΝΕΙ ΩΣ ΠΑΡΑΜΕΤΡΟΥΣ ΜΙΑ TOKENIZED ΠΡΟΤΑΣΗ ΚΑΙ ΤΟ ΜΟΝΤΕΛΟ ΚΑΙ ΕΠΙΣΤΡΕΦΕΙ ΕΝΑ VECTOR ΓΙΑ ΤΟ TWEET ΣΕ ΜΟΡΦΗ ARRAY\n",
        "\n"
      ],
      "metadata": {
        "id": "-AmgEyj6M_uI"
      }
    },
    {
      "cell_type": "code",
      "source": [
        "# Function to vectorize a tweet\n",
        "import numpy\n",
        "def vectorize_tweet(tweet,model):\n",
        "  # init tweet array to zeros\n",
        "  tweet_vec = numpy.zeros(model.wv.vector_size)\n",
        "  count = 0\n",
        "  for word in tweet:\n",
        "    try:\n",
        "      # add the word vector for every word in the vocabulary\n",
        "      tweet_vec += model.wv[word]\n",
        "      count += 1\n",
        "    except KeyError: # ignore if it's not in the vocabulary\n",
        "      continue\n",
        "      # divide by the number of words we added (still ignoring the ones we did not find)\n",
        "  if count:\n",
        "    tweet_vec /= count\n",
        "\n",
        "  return tweet_vec"
      ],
      "metadata": {
        "id": "_ToW4eRnBk8l"
      },
      "execution_count": null,
      "outputs": []
    },
    {
      "cell_type": "markdown",
      "source": [
        "ΟΜΟΙΩΣ ΜΕ ΤΑ ΠΡΟΗΓΟΥΜΕΝΑ ΘΑ ΧΩΡΙΣΟΥΜΕ ΤΟ DATASET ΣΕ TRAIN ΚΑΙ TEST"
      ],
      "metadata": {
        "id": "9RXp7t7mNotK"
      }
    },
    {
      "cell_type": "code",
      "source": [
        "train_w2v = []\n",
        "test_w2v = []\n",
        "\n",
        "for i in range(10):\n",
        "  # train dataframe 2 vectors\n",
        "  tokenized_tweet = train_df[i]['text'].apply(lambda x: x.split())\n",
        "  t2v = []\n",
        "  for item in tokenized_tweet:\n",
        "    t2v.append(vectorize_tweet(item,model_w2v))\n",
        "  train_w2v.append(t2v)\n",
        "\n",
        "  # test dataframe 2 vectors\n",
        "  tokenized_tweet = test_df[i]['text'].apply(lambda x: x.split())\n",
        "  t2v = []\n",
        "  for item in tokenized_tweet:\n",
        "    t2v.append(vectorize_tweet(item,model_w2v))\n",
        "  test_w2v.append(t2v)"
      ],
      "metadata": {
        "id": "0KmJsDIu2zMC"
      },
      "execution_count": null,
      "outputs": []
    },
    {
      "cell_type": "markdown",
      "source": [
        "**ASKISI  4 - ΔΟΚΙΜΗ CLASSIFIERS**"
      ],
      "metadata": {
        "id": "YA9Lkf_DJHlO"
      }
    },
    {
      "cell_type": "markdown",
      "source": [
        "### 1) SVM ###"
      ],
      "metadata": {
        "id": "J9kG67QCI7Qv"
      }
    },
    {
      "cell_type": "markdown",
      "source": [
        "----------------- RESULTS BOW --------------------"
      ],
      "metadata": {
        "id": "YNvhz53THrCn"
      }
    },
    {
      "cell_type": "code",
      "source": [
        "from sklearn import svm\n",
        "from sklearn.metrics import classification_report , confusion_matrix , accuracy_score\n",
        "\n",
        "\n",
        "clf = svm.SVC(gamma = 0.0001, C = 100)\n",
        "\n",
        "precision = 0\n",
        "accuracy = 0\n",
        "recall = 0\n",
        "f1 = 0\n",
        "\n",
        "# fitting\n",
        "for i in range(10):\n",
        "\n",
        "  clf.fit(bow_xtrain[i],train_df[i][\"sentiment\"])\n",
        "\n",
        "  prediction = clf.predict(bow_xtest[i])\n",
        "\n",
        "  print(f'Itteration {i+1} of  10 - Fold')\n",
        "  svm_bow_classification=classification_report(test_df[i]['sentiment'],prediction,output_dict=True)\n",
        "\n",
        "  precision += svm_bow_classification[\"macro avg\"][\"precision\"]\n",
        "  recall += svm_bow_classification[\"macro avg\"][\"recall\"]\n",
        "  f1 += svm_bow_classification[\"macro avg\"][\"f1-score\"]\n",
        "  accuracy += svm_bow_classification[\"accuracy\"]\n",
        "\n",
        "precision /= 10\n",
        "recall /= 10\n",
        "f1 /= 10\n",
        "accuracy /= 10\n"
      ],
      "metadata": {
        "id": "f7xlInfnHfuZ",
        "colab": {
          "base_uri": "https://localhost:8080/"
        },
        "outputId": "fd96f5f4-35c6-4f8b-9e19-02a9c895ccf7"
      },
      "execution_count": null,
      "outputs": [
        {
          "output_type": "stream",
          "name": "stdout",
          "text": [
            "Itteration 1 of  10 - Fold\n",
            "Itteration 2 of  10 - Fold\n",
            "Itteration 3 of  10 - Fold\n",
            "Itteration 4 of  10 - Fold\n",
            "Itteration 5 of  10 - Fold\n",
            "Itteration 6 of  10 - Fold\n",
            "Itteration 7 of  10 - Fold\n",
            "Itteration 8 of  10 - Fold\n",
            "Itteration 9 of  10 - Fold\n",
            "Itteration 10 of  10 - Fold\n"
          ]
        }
      ]
    },
    {
      "cell_type": "code",
      "source": [
        "plt.figure(figsize = (6,6))\n",
        "\n",
        "left=[60,70,80,100]\n",
        "height=[int(precision*100),int(recall*100),int(f1*100) ,int(accuracy*100)]\n",
        "tick_label=['precision','recall','f-score','accuracy']\n",
        "plt.bar(left,height,tick_label=tick_label,width=5,color = [\"red\",\"green\",\"blue\",\"black\"])\n",
        "plt.title('SVM - BOW ')\n",
        "plt.xticks(rotation= 45)\n",
        "\n",
        "\n",
        "plt.tight_layout()\n",
        "plt.show"
      ],
      "metadata": {
        "id": "TmEmQc8u1a2Y",
        "colab": {
          "base_uri": "https://localhost:8080/",
          "height": 458
        },
        "outputId": "b342a9d9-f4b5-4da6-85fb-e1f190391dac"
      },
      "execution_count": null,
      "outputs": [
        {
          "output_type": "execute_result",
          "data": {
            "text/plain": [
              "<function matplotlib.pyplot.show>"
            ]
          },
          "metadata": {},
          "execution_count": 40
        },
        {
          "output_type": "display_data",
          "data": {
            "text/plain": [
              "<Figure size 432x432 with 1 Axes>"
            ],
            "image/png": "[encoded data removed]"
          },
          "metadata": {
            "needs_background": "light"
          }
        }
      ]
    },
    {
      "cell_type": "markdown",
      "source": [
        "----------------- RESULTS TF-IDF --------------------\n",
        "\n"
      ],
      "metadata": {
        "id": "urv9CUHoHRhD"
      }
    },
    {
      "cell_type": "code",
      "source": [
        "from sklearn import svm\n",
        "from sklearn.metrics import classification_report , confusion_matrix , accuracy_score\n",
        "import warnings\n",
        "warnings.filterwarnings('ignore')\n",
        "clf = svm.SVC(gamma = 0.0001, C = 100)\n",
        "\n",
        "precision = 0\n",
        "accuracy = 0\n",
        "recall = 0\n",
        "f1 = 0\n",
        "\n",
        "# fitting\n",
        "for i in range(10):\n",
        "  clf.fit(tfidf_train[i], train_df[i][\"sentiment\"])\n",
        "\n",
        "\n",
        "  prediction = clf.predict(tfidf_test[i])\n",
        "\n",
        "  print(f'Itteration {i+1} of  10 - Fold')\n",
        "  svm_tf_idf_classification = classification_report(test_df[i]['sentiment'],prediction,output_dict=True)\n",
        "\n",
        "  precision += svm_tf_idf_classification[\"macro avg\"][\"precision\"]\n",
        "  recall += svm_tf_idf_classification[\"macro avg\"][\"recall\"]\n",
        "  f1 += svm_tf_idf_classification[\"macro avg\"][\"f1-score\"]\n",
        "  accuracy += svm_tf_idf_classification[\"accuracy\"]\n",
        "\n",
        "precision /= 10\n",
        "recall /= 10\n",
        "f1 /= 10\n",
        "accuracy /= 10\n"
      ],
      "metadata": {
        "id": "ybUERXg4RYaU"
      },
      "execution_count": null,
      "outputs": []
    },
    {
      "cell_type": "code",
      "source": [
        "plt.figure(figsize = (6,6))\n",
        "\n",
        "left=[60,70,80,100]\n",
        "height=[int(precision*100),int(recall*100),int(f1*100) ,int(accuracy*100)]\n",
        "tick_label=['precision','recall','f-score','accuracy']\n",
        "plt.bar(left,height,tick_label=tick_label,width=5,color = [\"red\",\"green\",\"blue\",\"black\"])\n",
        "plt.title('SVM - TF-IDF ')\n",
        "plt.xticks(rotation= 45)\n",
        "\n",
        "\n",
        "plt.tight_layout()\n",
        "plt.show"
      ],
      "metadata": {
        "id": "QWjLSLSV1D66",
        "colab": {
          "base_uri": "https://localhost:8080/",
          "height": 458
        },
        "outputId": "35a0ee82-2e0c-48f4-f690-6967c481435f"
      },
      "execution_count": null,
      "outputs": [
        {
          "output_type": "execute_result",
          "data": {
            "text/plain": [
              "<function matplotlib.pyplot.show>"
            ]
          },
          "metadata": {},
          "execution_count": 42
        },
        {
          "output_type": "display_data",
          "data": {
            "text/plain": [
              "<Figure size 432x432 with 1 Axes>"
            ],
            "image/png": "[encoded data removed]"
          },
          "metadata": {
            "needs_background": "light"
          }
        }
      ]
    },
    {
      "cell_type": "markdown",
      "source": [
        "-------- RESULTS WORD EMBEDDINGS ----------------------"
      ],
      "metadata": {
        "id": "b9UOidDe2Izj"
      }
    },
    {
      "cell_type": "code",
      "source": [
        "from sklearn import svm\n",
        "from sklearn.metrics import classification_report , confusion_matrix , accuracy_score\n",
        "\n",
        "clf = svm.SVC(gamma = 0.0001, C = 100)\n",
        "\n",
        "precision = 0\n",
        "accuracy = 0\n",
        "recall = 0\n",
        "f1 = 0\n",
        "\n",
        "for i in range(10):\n",
        "\n",
        "  clf.fit(train_w2v[i], train_df[i][\"sentiment\"])\n",
        "\n",
        "\n",
        "  prediction = clf.predict(test_w2v[i])\n",
        "\n",
        "  print(f'Itteration {i + 1} of 10 - Fold')\n",
        "  svm_we_classification=classification_report(test_df[i]['sentiment'],prediction,output_dict=True)\n",
        "\n",
        "  precision += svm_we_classification[\"macro avg\"][\"precision\"]\n",
        "  recall += svm_we_classification[\"macro avg\"][\"recall\"]\n",
        "  f1 += svm_we_classification[\"macro avg\"][\"f1-score\"]\n",
        "  accuracy += svm_we_classification[\"accuracy\"]\n",
        "\n",
        "precision /= 10\n",
        "recall /= 10\n",
        "f1 /= 10\n",
        "accuracy /= 10"
      ],
      "metadata": {
        "id": "QhDdpDFH2A-P",
        "colab": {
          "base_uri": "https://localhost:8080/"
        },
        "outputId": "cf861e44-2100-40f2-a2e0-2bc701cd1730"
      },
      "execution_count": null,
      "outputs": [
        {
          "output_type": "stream",
          "name": "stdout",
          "text": [
            "Itteration 1 of 10 - Fold\n",
            "Itteration 2 of 10 - Fold\n",
            "Itteration 3 of 10 - Fold\n",
            "Itteration 4 of 10 - Fold\n",
            "Itteration 5 of 10 - Fold\n",
            "Itteration 6 of 10 - Fold\n",
            "Itteration 7 of 10 - Fold\n"
          ]
        },
        {
          "output_type": "stream",
          "name": "stderr",
          "text": [
            "/usr/local/lib/python3.7/dist-packages/sklearn/metrics/_classification.py:1318: UndefinedMetricWarning: Precision and F-score are ill-defined and being set to 0.0 in labels with no predicted samples. Use `zero_division` parameter to control this behavior.\n",
            "  _warn_prf(average, modifier, msg_start, len(result))\n",
            "/usr/local/lib/python3.7/dist-packages/sklearn/metrics/_classification.py:1318: UndefinedMetricWarning: Precision and F-score are ill-defined and being set to 0.0 in labels with no predicted samples. Use `zero_division` parameter to control this behavior.\n",
            "  _warn_prf(average, modifier, msg_start, len(result))\n",
            "/usr/local/lib/python3.7/dist-packages/sklearn/metrics/_classification.py:1318: UndefinedMetricWarning: Precision and F-score are ill-defined and being set to 0.0 in labels with no predicted samples. Use `zero_division` parameter to control this behavior.\n",
            "  _warn_prf(average, modifier, msg_start, len(result))\n"
          ]
        },
        {
          "output_type": "stream",
          "name": "stdout",
          "text": [
            "Itteration 8 of 10 - Fold\n",
            "Itteration 9 of 10 - Fold\n",
            "Itteration 10 of 10 - Fold\n"
          ]
        }
      ]
    },
    {
      "cell_type": "code",
      "source": [
        "plt.figure(figsize = (6,6))\n",
        "\n",
        "left=[60,70,80,100]\n",
        "height=[int(precision*100),int(recall*100),int(f1*100) ,int(accuracy*100)]\n",
        "tick_label=['precision','recall','f-score','accuracy']\n",
        "plt.bar(left,height,tick_label=tick_label,width=5,color = [\"red\",\"green\",\"blue\",\"black\"])\n",
        "plt.title('SVM - WORD EMBEDDINGS ')\n",
        "plt.xticks(rotation= 45)\n",
        "\n",
        "\n",
        "plt.tight_layout()\n",
        "plt.show"
      ],
      "metadata": {
        "id": "EkuWZXMi0yD3",
        "colab": {
          "base_uri": "https://localhost:8080/",
          "height": 458
        },
        "outputId": "1c76f60f-0442-4d5f-c035-4149d6c7c179"
      },
      "execution_count": null,
      "outputs": [
        {
          "output_type": "execute_result",
          "data": {
            "text/plain": [
              "<function matplotlib.pyplot.show>"
            ]
          },
          "metadata": {},
          "execution_count": 43
        },
        {
          "output_type": "display_data",
          "data": {
            "text/plain": [
              "<Figure size 432x432 with 1 Axes>"
            ],
            "image/png": "[encoded data removed]"
          },
          "metadata": {
            "needs_background": "light"
          }
        }
      ]
    },
    {
      "cell_type": "markdown",
      "source": [
        "# 2) RANDOM FOREST"
      ],
      "metadata": {
        "id": "sb2EU9V5zqtd"
      }
    },
    {
      "cell_type": "markdown",
      "source": [
        "----------------- RESULTS BOW --------------------"
      ],
      "metadata": {
        "id": "MgrzI4Sh0PcF"
      }
    },
    {
      "cell_type": "code",
      "source": [
        "from sklearn.ensemble import RandomForestClassifier\n",
        "from sklearn.metrics import classification_report , confusion_matrix , accuracy_score\n",
        "clf = RandomForestClassifier(n_estimators= 100 , random_state= 0)\n",
        "\n",
        "precision = 0\n",
        "accuracy = 0\n",
        "recall = 0\n",
        "f1 = 0\n",
        "\n",
        "# fitting\n",
        "for i in range(10):\n",
        "  clf.fit(bow_xtrain[i],train_df[i][\"sentiment\"])\n",
        "\n",
        "\n",
        "  prediction = clf.predict(bow_xtest[i])\n",
        "\n",
        "  print(f'Itteration {i+1} of  10 - Fold')\n",
        "  rf_bow_classification=classification_report(test_df[i]['sentiment'],prediction,output_dict=True)\n",
        "\n",
        "  precision += rf_bow_classification[\"macro avg\"][\"precision\"]\n",
        "  recall += rf_bow_classification[\"macro avg\"][\"recall\"]\n",
        "  f1 += rf_bow_classification[\"macro avg\"][\"f1-score\"]\n",
        "  accuracy += rf_bow_classification[\"accuracy\"]\n",
        "\n",
        "precision /= 10\n",
        "recall /= 10\n",
        "f1 /= 10\n",
        "accuracy /= 10\n"
      ],
      "metadata": {
        "id": "id0545XBzoJa",
        "colab": {
          "base_uri": "https://localhost:8080/"
        },
        "outputId": "da4d9d17-5022-4584-ace2-604accac1c89"
      },
      "execution_count": null,
      "outputs": [
        {
          "output_type": "stream",
          "name": "stdout",
          "text": [
            "Itteration 1 of  10 - Fold\n",
            "Itteration 2 of  10 - Fold\n",
            "Itteration 3 of  10 - Fold\n",
            "Itteration 4 of  10 - Fold\n",
            "Itteration 5 of  10 - Fold\n",
            "Itteration 6 of  10 - Fold\n",
            "Itteration 7 of  10 - Fold\n",
            "Itteration 8 of  10 - Fold\n",
            "Itteration 9 of  10 - Fold\n",
            "Itteration 10 of  10 - Fold\n"
          ]
        }
      ]
    },
    {
      "cell_type": "code",
      "source": [
        "plt.figure(figsize = (6,6))\n",
        "\n",
        "left=[60,70,80,100]\n",
        "height=[int(precision*100),int(recall*100),int(f1*100) ,int(accuracy*100)]\n",
        "tick_label=['precision','recall','f-score','accuracy']\n",
        "plt.bar(left,height,tick_label=tick_label,width=5,color = [\"red\",\"green\",\"blue\",\"black\"])\n",
        "plt.title('RF - BOW ')\n",
        "plt.xticks(rotation= 45)\n",
        "\n",
        "\n",
        "plt.tight_layout()\n",
        "plt.show"
      ],
      "metadata": {
        "id": "xi-u_Q2y0uH-",
        "colab": {
          "base_uri": "https://localhost:8080/",
          "height": 458
        },
        "outputId": "435bac76-0376-418b-85a8-55e08622b721"
      },
      "execution_count": null,
      "outputs": [
        {
          "output_type": "execute_result",
          "data": {
            "text/plain": [
              "<function matplotlib.pyplot.show>"
            ]
          },
          "metadata": {},
          "execution_count": 51
        },
        {
          "output_type": "display_data",
          "data": {
            "text/plain": [
              "<Figure size 432x432 with 1 Axes>"
            ],
            "image/png": "[encoded data removed]"
          },
          "metadata": {
            "needs_background": "light"
          }
        }
      ]
    },
    {
      "cell_type": "markdown",
      "source": [
        "----------------- RESULTS TF-IDF --------------------"
      ],
      "metadata": {
        "id": "Oobz8NXX2t5a"
      }
    },
    {
      "cell_type": "code",
      "source": [
        "from sklearn.ensemble import RandomForestClassifier\n",
        "from sklearn.metrics import classification_report , confusion_matrix , accuracy_score\n",
        "\n",
        "clf = RandomForestClassifier(n_estimators= 100 , random_state= 0)\n",
        "\n",
        "precision = 0\n",
        "accuracy = 0\n",
        "recall = 0\n",
        "f1 = 0\n",
        "\n",
        "# fitting\n",
        "for i in range(10):\n",
        "  clf.fit(tfidf_train[i], train_df[i][\"sentiment\"])\n",
        "\n",
        "\n",
        "  prediction = clf.predict(tfidf_test[i])\n",
        "\n",
        "  print(f'Itteration {i+1} of  10 - Fold')\n",
        "  rf_tf_idf_classification = classification_report(test_df[i]['sentiment'],prediction,output_dict=True)\n",
        "\n",
        "  precision += rf_tf_idf_classification[\"macro avg\"][\"precision\"]\n",
        "  recall += rf_tf_idf_classification[\"macro avg\"][\"recall\"]\n",
        "  f1 += rf_tf_idf_classification[\"macro avg\"][\"f1-score\"]\n",
        "  accuracy += rf_tf_idf_classification[\"accuracy\"]\n",
        "\n",
        "precision /= 10\n",
        "recall /= 10\n",
        "f1 /= 10\n",
        "accuracy /= 10"
      ],
      "metadata": {
        "id": "Vqbz4W422zJ-",
        "colab": {
          "base_uri": "https://localhost:8080/"
        },
        "outputId": "7d2cb8b6-e25d-4322-a654-7ca8d91500d8"
      },
      "execution_count": null,
      "outputs": [
        {
          "output_type": "stream",
          "name": "stdout",
          "text": [
            "Itteration 1 of  10 - Fold\n",
            "Itteration 2 of  10 - Fold\n",
            "Itteration 3 of  10 - Fold\n",
            "Itteration 4 of  10 - Fold\n",
            "Itteration 5 of  10 - Fold\n",
            "Itteration 6 of  10 - Fold\n",
            "Itteration 7 of  10 - Fold\n",
            "Itteration 8 of  10 - Fold\n",
            "Itteration 9 of  10 - Fold\n",
            "Itteration 10 of  10 - Fold\n"
          ]
        }
      ]
    },
    {
      "cell_type": "code",
      "source": [
        "plt.figure(figsize = (6,6))\n",
        "\n",
        "left=[60,70,80,100]\n",
        "height=[int(precision*100),int(recall*100),int(f1*100) ,int(accuracy*100)]\n",
        "tick_label=['precision','recall','f-score','accuracy']\n",
        "plt.bar(left,height,tick_label=tick_label,width=5,color = [\"red\",\"green\",\"blue\",\"black\"])\n",
        "plt.title('RF - TF-IDF ')\n",
        "plt.xticks(rotation= 45)\n",
        "\n",
        "\n",
        "plt.tight_layout()\n",
        "plt.show"
      ],
      "metadata": {
        "id": "vyV-fvfF0V5W",
        "colab": {
          "base_uri": "https://localhost:8080/",
          "height": 458
        },
        "outputId": "2758b7c0-3f5c-4979-eaf5-e8bf8683ec68"
      },
      "execution_count": null,
      "outputs": [
        {
          "output_type": "execute_result",
          "data": {
            "text/plain": [
              "<function matplotlib.pyplot.show>"
            ]
          },
          "metadata": {},
          "execution_count": 53
        },
        {
          "output_type": "display_data",
          "data": {
            "text/plain": [
              "<Figure size 432x432 with 1 Axes>"
            ],
            "image/png": "[encoded data removed]"
          },
          "metadata": {
            "needs_background": "light"
          }
        }
      ]
    },
    {
      "cell_type": "markdown",
      "source": [
        "-------------- RESULTS WORD EMBEDDINGS --------------------"
      ],
      "metadata": {
        "id": "Cti9LUfJHDW0"
      }
    },
    {
      "cell_type": "code",
      "source": [
        "from sklearn.ensemble import RandomForestClassifier\n",
        "from sklearn.metrics import classification_report , confusion_matrix , accuracy_score\n",
        "\n",
        "clf = RandomForestClassifier(n_estimators= 100 , random_state= 0)\n",
        "\n",
        "precision = 0\n",
        "accuracy = 0\n",
        "recall = 0\n",
        "f1 = 0\n",
        "\n",
        "\n",
        "for i in range(10):\n",
        "\n",
        "  clf.fit(train_w2v[i], train_df[i][\"sentiment\"])\n",
        "\n",
        "\n",
        "  prediction = clf.predict(test_w2v[i])\n",
        "\n",
        "  print(f'Itteration {i + 1} of 10 - Fold')\n",
        "\n",
        "  rf_we_classification = classification_report(test_df[i]['sentiment'],prediction,output_dict=True)\n",
        "\n",
        "  precision += rf_we_classification[\"macro avg\"][\"precision\"]\n",
        "  recall += rf_we_classification[\"macro avg\"][\"recall\"]\n",
        "  f1 += rf_we_classification[\"macro avg\"][\"f1-score\"]\n",
        "  accuracy += rf_we_classification[\"accuracy\"]\n",
        "\n",
        "precision /= 10\n",
        "recall /= 10\n",
        "f1 /= 10\n",
        "accuracy /= 10"
      ],
      "metadata": {
        "id": "b7lOlmeHG31G",
        "colab": {
          "base_uri": "https://localhost:8080/"
        },
        "outputId": "19731ca4-cb8a-431d-cf53-6cdb3402c253"
      },
      "execution_count": null,
      "outputs": [
        {
          "output_type": "stream",
          "name": "stdout",
          "text": [
            "Itteration 1 of 10 - Fold\n",
            "Itteration 2 of 10 - Fold\n",
            "Itteration 3 of 10 - Fold\n",
            "Itteration 4 of 10 - Fold\n",
            "Itteration 5 of 10 - Fold\n",
            "Itteration 6 of 10 - Fold\n",
            "Itteration 7 of 10 - Fold\n",
            "Itteration 8 of 10 - Fold\n",
            "Itteration 9 of 10 - Fold\n",
            "Itteration 10 of 10 - Fold\n"
          ]
        }
      ]
    },
    {
      "cell_type": "code",
      "source": [
        "plt.figure(figsize = (6,6))\n",
        "\n",
        "left=[60,70,80,100]\n",
        "height=[int(precision*100),int(recall*100),int(f1*100) ,int(accuracy*100)]\n",
        "tick_label=['precision','recall','f-score','accuracy']\n",
        "plt.bar(left,height,tick_label=tick_label,width=5,color = [\"red\",\"green\",\"blue\",\"black\"])\n",
        "plt.title('RF - WORD EMBEDDINGS')\n",
        "plt.xticks(rotation= 45)\n",
        "\n",
        "\n",
        "plt.tight_layout()\n",
        "plt.show"
      ],
      "metadata": {
        "colab": {
          "base_uri": "https://localhost:8080/",
          "height": 458
        },
        "id": "lLOo0Owvz8SH",
        "outputId": "d0a52cfa-1b90-4292-ce4b-9244d998b774"
      },
      "execution_count": null,
      "outputs": [
        {
          "output_type": "execute_result",
          "data": {
            "text/plain": [
              "<function matplotlib.pyplot.show>"
            ]
          },
          "metadata": {},
          "execution_count": 55
        },
        {
          "output_type": "display_data",
          "data": {
            "text/plain": [
              "<Figure size 432x432 with 1 Axes>"
            ],
            "image/png": "[encoded data removed]"
          },
          "metadata": {
            "needs_background": "light"
          }
        }
      ]
    },
    {
      "cell_type": "markdown",
      "source": [
        "3) KNN"
      ],
      "metadata": {
        "id": "URHBhNkv3sKd"
      }
    },
    {
      "cell_type": "markdown",
      "source": [
        "--------- RESULTS BOW --------------------"
      ],
      "metadata": {
        "id": "iwbvKPGD3t50"
      }
    },
    {
      "cell_type": "code",
      "source": [
        "from sklearn.neighbors import KNeighborsClassifier\n",
        "from sklearn.metrics import classification_report , confusion_matrix , accuracy_score\n",
        "\n",
        "clf = KNeighborsClassifier(3)\n",
        "\n",
        "precision = 0\n",
        "accuracy = 0\n",
        "recall = 0\n",
        "f1 = 0\n",
        "\n",
        "for i in range(10):\n",
        "  clf.fit(bow_xtrain[i],train_df[i][\"sentiment\"])\n",
        "\n",
        "\n",
        "  prediction = clf.predict(bow_xtest[i])\n",
        "\n",
        "  print(f'Itteration {i+1} of  10 - Fold')\n",
        "  knn_bow_classification = classification_report(test_df[i]['sentiment'],prediction,output_dict=True)\n",
        "\n",
        "  precision += knn_bow_classification[\"macro avg\"][\"precision\"]\n",
        "  recall += knn_bow_classification[\"macro avg\"][\"recall\"]\n",
        "  f1 += knn_bow_classification[\"macro avg\"][\"f1-score\"]\n",
        "  accuracy += knn_bow_classification[\"accuracy\"]\n",
        "\n",
        "precision /= 10\n",
        "recall /= 10\n",
        "f1 /= 10\n",
        "accuracy /= 10"
      ],
      "metadata": {
        "id": "FIN2URea3eYh",
        "colab": {
          "base_uri": "https://localhost:8080/"
        },
        "outputId": "d2e989a8-94e6-4a00-8d0e-bbcd0a2435d3"
      },
      "execution_count": null,
      "outputs": [
        {
          "output_type": "stream",
          "name": "stdout",
          "text": [
            "Itteration 1 of  10 - Fold\n",
            "Itteration 2 of  10 - Fold\n",
            "Itteration 3 of  10 - Fold\n",
            "Itteration 4 of  10 - Fold\n",
            "Itteration 5 of  10 - Fold\n",
            "Itteration 6 of  10 - Fold\n",
            "Itteration 7 of  10 - Fold\n",
            "Itteration 8 of  10 - Fold\n",
            "Itteration 9 of  10 - Fold\n",
            "Itteration 10 of  10 - Fold\n"
          ]
        }
      ]
    },
    {
      "cell_type": "code",
      "source": [],
      "metadata": {
        "id": "-Yf3kZB8KAzp"
      },
      "execution_count": null,
      "outputs": []
    },
    {
      "cell_type": "code",
      "source": [
        "plt.figure(figsize = (6,6))\n",
        "\n",
        "left=[60,70,80,100]\n",
        "height=[int(precision*100),int(recall*100),int(f1*100) ,int(accuracy*100)]\n",
        "tick_label=['precision','recall','f-score','accuracy']\n",
        "plt.bar(left,height,tick_label=tick_label,width=5,color = [\"red\",\"green\",\"blue\",\"black\"])\n",
        "plt.title('KNN - BOW ')\n",
        "plt.xticks(rotation= 45)\n",
        "\n",
        "\n",
        "plt.tight_layout()\n",
        "plt.show"
      ],
      "metadata": {
        "colab": {
          "base_uri": "https://localhost:8080/",
          "height": 458
        },
        "id": "eOuM1CNkztEg",
        "outputId": "4136b8ce-b357-4a22-ddb3-363c44770662"
      },
      "execution_count": null,
      "outputs": [
        {
          "output_type": "execute_result",
          "data": {
            "text/plain": [
              "<function matplotlib.pyplot.show>"
            ]
          },
          "metadata": {},
          "execution_count": 45
        },
        {
          "output_type": "display_data",
          "data": {
            "text/plain": [
              "<Figure size 432x432 with 1 Axes>"
            ],
            "image/png": "[encoded data removed]"
          },
          "metadata": {
            "needs_background": "light"
          }
        }
      ]
    },
    {
      "cell_type": "markdown",
      "source": [
        "-------------- RESULTS TF-IDF ----------------"
      ],
      "metadata": {
        "id": "aDaEuBEz4Zm8"
      }
    },
    {
      "cell_type": "code",
      "source": [
        "from sklearn.neighbors import KNeighborsClassifier\n",
        "from sklearn.metrics import classification_report , confusion_matrix , accuracy_score\n",
        "\n",
        "clf = KNeighborsClassifier()\n",
        "\n",
        "\n",
        "precision = 0\n",
        "accuracy = 0\n",
        "recall = 0\n",
        "f1 = 0\n",
        "\n",
        "# fitting\n",
        "for i in range(10):\n",
        "  clf.fit(tfidf_train[i], train_df[i][\"sentiment\"])\n",
        "\n",
        "\n",
        "  prediction = clf.predict(tfidf_test[i])\n",
        "\n",
        "  print(f'Itteration {i+1} of  10 - Fold')\n",
        "\n",
        "  # saving results to variables for plotting\n",
        "  knn_tf_idf_classification = classification_report(test_df[i]['sentiment'],prediction,output_dict=True)\n",
        "\n",
        "\n",
        "  precision += knn_tf_idf_classification[\"macro avg\"][\"precision\"]\n",
        "  recall += knn_tf_idf_classification[\"macro avg\"][\"recall\"]\n",
        "  f1 += knn_tf_idf_classification[\"macro avg\"][\"f1-score\"]\n",
        "  accuracy += knn_tf_idf_classification[\"accuracy\"]\n",
        "\n",
        "precision /= 10\n",
        "recall /= 10\n",
        "f1 /= 10\n",
        "accuracy /= 10"
      ],
      "metadata": {
        "id": "futIGsKi4TJw",
        "colab": {
          "base_uri": "https://localhost:8080/"
        },
        "outputId": "64e01788-afc0-498e-bb4f-d3e629d65590"
      },
      "execution_count": null,
      "outputs": [
        {
          "output_type": "stream",
          "name": "stdout",
          "text": [
            "Itteration 1 of  10 - Fold\n",
            "Itteration 2 of  10 - Fold\n",
            "Itteration 3 of  10 - Fold\n",
            "Itteration 4 of  10 - Fold\n",
            "Itteration 5 of  10 - Fold\n",
            "Itteration 6 of  10 - Fold\n",
            "Itteration 7 of  10 - Fold\n",
            "Itteration 8 of  10 - Fold\n",
            "Itteration 9 of  10 - Fold\n",
            "Itteration 10 of  10 - Fold\n"
          ]
        }
      ]
    },
    {
      "cell_type": "code",
      "source": [
        "plt.figure(figsize = (6,6))\n",
        "\n",
        "left=[60,70,80,100]\n",
        "height=[int(precision*100),int(recall*100),int(f1*100) ,int(accuracy*100)]\n",
        "tick_label=['precision','recall','f-score','accurancy']\n",
        "plt.bar(left,height,tick_label=tick_label,width=5,color = [\"red\",\"green\",\"blue\",\"black\"])\n",
        "plt.title('KNN - TF-IDF ')\n",
        "plt.xticks(rotation= 45)\n",
        "\n",
        "\n",
        "plt.tight_layout()\n",
        "plt.show\n"
      ],
      "metadata": {
        "colab": {
          "base_uri": "https://localhost:8080/",
          "height": 458
        },
        "id": "h7p8g2pzzNYH",
        "outputId": "92f8dd25-a043-4aef-fa81-919d63e8d45a"
      },
      "execution_count": null,
      "outputs": [
        {
          "output_type": "execute_result",
          "data": {
            "text/plain": [
              "<function matplotlib.pyplot.show>"
            ]
          },
          "metadata": {},
          "execution_count": 47
        },
        {
          "output_type": "display_data",
          "data": {
            "text/plain": [
              "<Figure size 432x432 with 1 Axes>"
            ],
            "image/png": "[encoded data removed]"
          },
          "metadata": {
            "needs_background": "light"
          }
        }
      ]
    },
    {
      "cell_type": "markdown",
      "source": [
        "---------------- RESULTS WORD EMBEDDINGS -----------------"
      ],
      "metadata": {
        "id": "cnKU-fi5HTH8"
      }
    },
    {
      "cell_type": "code",
      "source": [
        "from sklearn.neighbors import KNeighborsClassifier\n",
        "from sklearn.metrics import classification_report , confusion_matrix , accuracy_score\n",
        "\n",
        "clf = KNeighborsClassifier()\n",
        "\n",
        "precision = 0\n",
        "accuracy = 0\n",
        "recall = 0\n",
        "f1 = 0\n",
        "\n",
        "for i in range(10):\n",
        "\n",
        "  clf.fit(train_w2v[i], train_df[i][\"sentiment\"])\n",
        "\n",
        "\n",
        "  prediction = clf.predict(test_w2v[i])\n",
        "\n",
        "  print(f'Itteration {i + 1} of 10 - Fold')\n",
        "  knn_we_classification = classification_report(test_df[i]['sentiment'],prediction,output_dict=True)\n",
        "  precision += knn_we_classification[\"macro avg\"][\"precision\"]\n",
        "  recall += knn_we_classification[\"macro avg\"][\"recall\"]\n",
        "  f1 += knn_we_classification[\"macro avg\"][\"f1-score\"]\n",
        "  accuracy += knn_we_classification[\"accuracy\"]\n",
        "\n",
        "precision /= 10\n",
        "recall /= 10\n",
        "f1 /= 10\n",
        "accuracy /= 10"
      ],
      "metadata": {
        "id": "6Y2SAeoWHYSf",
        "colab": {
          "base_uri": "https://localhost:8080/"
        },
        "outputId": "a98beb15-72ca-4aed-8705-b71fd91c2e44"
      },
      "execution_count": null,
      "outputs": [
        {
          "output_type": "stream",
          "name": "stdout",
          "text": [
            "Itteration 1 of 10 - Fold\n",
            "Itteration 2 of 10 - Fold\n",
            "Itteration 3 of 10 - Fold\n",
            "Itteration 4 of 10 - Fold\n",
            "Itteration 5 of 10 - Fold\n",
            "Itteration 6 of 10 - Fold\n",
            "Itteration 7 of 10 - Fold\n",
            "Itteration 8 of 10 - Fold\n",
            "Itteration 9 of 10 - Fold\n",
            "Itteration 10 of 10 - Fold\n"
          ]
        }
      ]
    },
    {
      "cell_type": "code",
      "source": [
        "plt.figure(figsize = (6,6))\n",
        "\n",
        "left=[60,70,80,100]\n",
        "height=[int(precision*100),int(recall*100),int(f1*100) ,int(accuracy*100)]\n",
        "tick_label=['precision','recall','f-score','accurancy']\n",
        "plt.bar(left,height,tick_label=tick_label,width=5,color = [\"red\",\"green\",\"blue\",\"black\"])\n",
        "plt.title('KNN - WORD EMBEDDINGS')\n",
        "plt.xticks(rotation= 45)\n",
        "\n",
        "\n",
        "plt.tight_layout()\n",
        "plt.show\n"
      ],
      "metadata": {
        "colab": {
          "base_uri": "https://localhost:8080/",
          "height": 458
        },
        "id": "wdFR45ARszDS",
        "outputId": "021022fe-8144-4ea8-f70d-7f0b9c4921f7"
      },
      "execution_count": null,
      "outputs": [
        {
          "output_type": "execute_result",
          "data": {
            "text/plain": [
              "<function matplotlib.pyplot.show>"
            ]
          },
          "metadata": {},
          "execution_count": 49
        },
        {
          "output_type": "display_data",
          "data": {
            "text/plain": [
              "<Figure size 432x432 with 1 Axes>"
            ],
            "image/png": "[encoded data removed]"
          },
          "metadata": {
            "needs_background": "light"
          }
        }
      ]
    },
    {
      "cell_type": "markdown",
      "source": [
        "Όπως είναι λογικό βρίσκουμε ότι τα Word Embeddings δίνουν πολύ καλύτερα αποτελέσματα και με τους 3 αλγόριθμους με το accuracy να βρίσκεται περίπου στο 72 % και το f1-score που συνδυάζει precision και recall να βρίσκεται κατά μέσο όρο στο 48%. Ακολουθεί το Tf-idf με accuracy περίπου 65% και f1-score περίπου 32%. Τέλος τα BOW εμφανίζουν accuracy περίπου 62% με f1-score περίπου στο 30%.\n"
      ],
      "metadata": {
        "id": "U0-fpAc3TLyA"
      }
    },
    {
      "cell_type": "markdown",
      "source": [
        "Αναλογικά με τους αλγόριθμους βλέπουμε τον SVM και ΚΝΝ να φέρνουν κοντινά αποτελέσματα, ενώ ο Random Forests έχει λίγο χειρότερα αποτελέσματα και σε BOW και TF-IDF αλλά παρόμοια με τη χρήση WE.\n",
        "\n",
        "Επίσης βλέπουμε πως ο KNN είναι πολύ ταχύτερος από τους άλλους δύο αλγορίθμους.\n"
      ],
      "metadata": {
        "id": "l1RVbKVNWzVT"
      }
    },
    {
      "cell_type": "markdown",
      "source": [
        "**ΑΣΚΗΣΗ 5 - ΜΟΝΤΕΛΟΠΟΙΗΣΗ ΘΕΜΑΤΩΝ LDA**"
      ],
      "metadata": {
        "id": "qK8QMBS4Xw56"
      }
    },
    {
      "cell_type": "code",
      "source": [
        "#LDA\n",
        "\n",
        "import warnings\n",
        "warnings.filterwarnings('ignore')\n",
        "\n",
        "import gensim\n",
        "from gensim.utils import simple_preprocess\n",
        "import nltk\n",
        "nltk.download('stopwords')\n",
        "from nltk.corpus import stopwords\n",
        "stop_words = stopwords.words('english')\n",
        "stop_words.extend(['from', 'subject', 're', 'edu', 'use'])\n",
        "def sent_to_words(sentences):\n",
        "    for sentence in sentences:\n",
        "        # deacc=True removes punctuations\n",
        "        yield(gensim.utils.simple_preprocess(str(sentence), deacc=True))\n",
        "def remove_stopwords(texts):\n",
        "    return [[word for word in simple_preprocess(str(doc))\n",
        "             if word not in stop_words] for doc in texts]\n",
        "data = df['text'].values.tolist()\n",
        "data_words = list(sent_to_words(data))\n",
        "# remove stop words\n",
        "data_words = remove_stopwords(data_words)\n",
        "print(data_words[:1][0][:30])\n",
        "\n",
        "# Build the bigram and trigram models\n",
        "bigram = gensim.models.Phrases(data_words, min_count=5, threshold=100) # higher threshold fewer phrases.\n",
        "trigram = gensim.models.Phrases(bigram[data_words], threshold=100)\n",
        "# Faster way to get a sentence clubbed as a trigram/bigram\n",
        "bigram_mod = gensim.models.phrases.Phraser(bigram)\n",
        "trigram_mod = gensim.models.phrases.Phraser(trigram)\n",
        "\n",
        "# NLTK Stop words\n",
        "# import nltk\n",
        "# nltk.download('stopwords')\n",
        "from nltk.corpus import stopwords\n",
        "stop_words = stopwords.words('english')\n",
        "stop_words.extend(['from', 'subject', 're', 'edu', 'use'])\n",
        "# Define functions for stopwords, bigrams, trigrams and lemmatization\n",
        "def remove_stopwords(texts):\n",
        "    return [[word for word in simple_preprocess(str(doc)) if word not in stop_words] for doc in texts]\n",
        "def make_bigrams(texts):\n",
        "    return [bigram_mod[doc] for doc in texts]\n",
        "def make_trigrams(texts):\n",
        "    return [trigram_mod[bigram_mod[doc]] for doc in texts]\n",
        "def lemmatization(texts, allowed_postags=['NOUN', 'ADJ', 'VERB', 'ADV']):\n",
        "    \"\"\"https://spacy.io/api/annotation\"\"\"\n",
        "    texts_out = []\n",
        "    for sent in texts:\n",
        "        doc = nlp(\" \".join(sent))\n",
        "        texts_out.append([token.lemma_ for token in doc if token.pos_ in allowed_postags])\n",
        "    return texts_out\n",
        "\n",
        "import spacy\n",
        "# Remove Stop Words\n",
        "data_words_nostops = remove_stopwords(data_words)\n",
        "# Form Bigrams\n",
        "data_words_bigrams = make_bigrams(data_words_nostops)\n",
        "# Initialize spacy 'en' model, keeping only tagger component (for efficiency)\n",
        "nlp = spacy.load(\"en_core_web_sm\", disable=['parser', 'ner'])\n",
        "# Do lemmatization keeping only noun, adj, vb, adv\n",
        "data_lemmatized = lemmatization(data_words_bigrams, allowed_postags=['NOUN', 'ADJ', 'VERB', 'ADV'])\n",
        "print(data_lemmatized[:1])\n",
        "\n",
        "import gensim.corpora as corpora\n",
        "# Create Dictionary\n",
        "id2word = corpora.Dictionary(data_lemmatized)\n",
        "# Create Corpus\n",
        "texts = data_lemmatized\n",
        "# Term Document Frequency\n",
        "corpus = [id2word.doc2bow(text) for text in texts]\n",
        "\n",
        "from pprint import pprint\n",
        "# number of topics\n",
        "num_topics = 10\n",
        "# Build LDA model\n",
        "lda_model = gensim.models.LdaMulticore(corpus=corpus,\n",
        "                                       id2word=id2word,\n",
        "                                       num_topics=num_topics,\n",
        "                                       random_state=100,\n",
        "                                       chunksize=100,\n",
        "                                       passes=10,\n",
        "                                       per_word_topics=True)\n",
        "# Print the Keyword in the 10 topics\n",
        "print(\"Printing Topics\")\n",
        "pprint(lda_model.print_topics())\n",
        "doc_lda = lda_model[corpus]\n",
        "\n",
        "\n",
        "from gensim.models import CoherenceModel\n",
        "# Compute Coherence Score\n",
        "coherence_model_lda = CoherenceModel(model=lda_model, texts=data_lemmatized, dictionary=id2word, coherence='c_v')\n",
        "coherence_lda = coherence_model_lda.get_coherence()\n",
        "print('Coherence Score: ', coherence_lda)\n",
        "\n",
        "!pip install pyLDAvis\n",
        "\n",
        "import pyLDAvis\n",
        "import pyLDAvis.gensim\n",
        "pyLDAvis.enable_notebook()\n",
        "vis = pyLDAvis.gensim.prepare(lda_model, corpus, id2word)\n",
        "vis"
      ],
      "metadata": {
        "colab": {
          "base_uri": "https://localhost:8080/",
          "height": 1000
        },
        "id": "rOq6tQTXpfEg",
        "outputId": "9e480ef8-7c96-4f0c-df9f-d4ebc117fda7"
      },
      "execution_count": null,
      "outputs": [
        {
          "output_type": "stream",
          "name": "stdout",
          "text": [
            "[nltk_data] Downloading package stopwords to /root/nltk_data...\n",
            "[nltk_data]   Package stopwords is already up-to-date!\n",
            "['folks', 'said', 'daikon', 'paste', 'treat', 'cytokine', 'storm', 'pfizerbiontech', 'httpstcoxehhimg', 'kf']\n",
            "[['folk', 'say', 'paste', 'treat', 'cytokine', 'storm', 'pfizerbiontech']]\n",
            "Printing Topics\n",
            "[(0,\n",
            "  '0.107*\"vaccine\" + 0.062*\"pfizerbiontech\" + 0.043*\"get\" + 0.037*\"covid\" + '\n",
            "  '0.021*\"take\" + 0.019*\"develop\" + 0.018*\"scientist\" + 0.018*\"grateful\" + '\n",
            "  '0.016*\"good\" + 0.014*\"thank\"'),\n",
            " (1,\n",
            "  '0.037*\"think\" + 0.028*\"covidvaccine\" + 0.027*\"pfizerbiontech\" + '\n",
            "  '0.024*\"want\" + 0.019*\"plan\" + 0.016*\"go\" + 0.015*\"medical\" + 0.014*\"death\" '\n",
            "  '+ 0.013*\"bring\" + 0.013*\"amp\"'),\n",
            " (2,\n",
            "  '0.062*\"today\" + 0.043*\"vaccinate\" + 0.040*\"vaccination\" + 0.039*\"thank\" + '\n",
            "  '0.026*\"know\" + 0.026*\"new\" + 0.022*\"vaccine\" + 0.019*\"year\" + 0.015*\"get\" + '\n",
            "  '0.013*\"good\"'),\n",
            " (3,\n",
            "  '0.038*\"pfizerbiontech\" + 0.038*\"vaccine\" + 0.037*\"day\" + 0.029*\"shoot\" + '\n",
            "  '0.019*\"pfizervaccine\" + 0.019*\"come\" + 0.018*\"nurse\" + 0.018*\"get\" + '\n",
            "  '0.017*\"give\" + 0.016*\"trial\"'),\n",
            " (4,\n",
            "  '0.019*\"lead\" + 0.017*\"people\" + 0.017*\"update\" + 0.016*\"use\" + 0.016*\"end\" '\n",
            "  '+ 0.014*\"extra\" + 0.014*\"order\" + 0.013*\"ask\" + 0.012*\"home\" + '\n",
            "  '0.011*\"live\"'),\n",
            " (5,\n",
            "  '0.075*\"vaccine\" + 0.068*\"say\" + 0.064*\"pfizerbiontech\" + 0.055*\"dose\" + '\n",
            "  '0.028*\"approve\" + 0.028*\"second\" + 0.023*\"government\" + 0.016*\"receive\" + '\n",
            "  '0.015*\"arrive\" + 0.014*\"hope\"'),\n",
            " (6,\n",
            "  '0.029*\"feel\" + 0.024*\"friend\" + 0.021*\"receive\" + 0.020*\"httpstco\" + '\n",
            "  '0.020*\"turn\" + 0.020*\"time\" + 0.017*\"today\" + 0.015*\"believe\" + '\n",
            "  '0.015*\"pfizerbiontech\" + 0.015*\"person\"'),\n",
            " (7,\n",
            "  '0.083*\"vaccine\" + 0.070*\"pfizerbiontech\" + 0.026*\"receive\" + 0.024*\"have\" + '\n",
            "  '0.020*\"question\" + 0.019*\"approval\" + 0.018*\"dose\" + 0.015*\"follow\" + '\n",
            "  '0.015*\"free\" + 0.014*\"covid\"'),\n",
            " (8,\n",
            "  '0.068*\"vaccine\" + 0.031*\"pfizerbiontech\" + 0.024*\"die\" + 0.023*\"emergency\" '\n",
            "  '+ 0.017*\"approve\" + 0.017*\"yesterday\" + 0.014*\"virus\" + 0.014*\"happy\" + '\n",
            "  '0.014*\"possible\" + 0.013*\"week\"'),\n",
            " (9,\n",
            "  '0.142*\"vaccine\" + 0.141*\"pfizerbiontech\" + 0.043*\"receive\" + 0.036*\"dose\" + '\n",
            "  '0.030*\"week\" + 0.023*\"start\" + 0.021*\"vaccination\" + 0.015*\"administer\" + '\n",
            "  '0.014*\"begin\" + 0.013*\"patient\"')]\n",
            "Coherence Score:  0.5329158804254861\n",
            "Requirement already satisfied: pyLDAvis in /usr/local/lib/python3.7/dist-packages (2.1.2)\n",
            "Requirement already satisfied: numpy>=1.9.2 in /usr/local/lib/python3.7/dist-packages (from pyLDAvis) (1.21.6)\n",
            "Requirement already satisfied: pytest in /usr/local/lib/python3.7/dist-packages (from pyLDAvis) (3.6.4)\n",
            "Requirement already satisfied: joblib>=0.8.4 in /usr/local/lib/python3.7/dist-packages (from pyLDAvis) (1.1.0)\n",
            "Requirement already satisfied: numexpr in /usr/local/lib/python3.7/dist-packages (from pyLDAvis) (2.8.1)\n",
            "Requirement already satisfied: wheel>=0.23.0 in /usr/local/lib/python3.7/dist-packages (from pyLDAvis) (0.37.1)\n",
            "Requirement already satisfied: funcy in /usr/local/lib/python3.7/dist-packages (from pyLDAvis) (1.17)\n",
            "Requirement already satisfied: future in /usr/local/lib/python3.7/dist-packages (from pyLDAvis) (0.16.0)\n",
            "Requirement already satisfied: pandas>=0.17.0 in /usr/local/lib/python3.7/dist-packages (from pyLDAvis) (1.3.5)\n",
            "Requirement already satisfied: jinja2>=2.7.2 in /usr/local/lib/python3.7/dist-packages (from pyLDAvis) (2.11.3)\n",
            "Requirement already satisfied: scipy>=0.18.0 in /usr/local/lib/python3.7/dist-packages (from pyLDAvis) (1.4.1)\n",
            "Requirement already satisfied: MarkupSafe>=0.23 in /usr/local/lib/python3.7/dist-packages (from jinja2>=2.7.2->pyLDAvis) (2.0.1)\n",
            "Requirement already satisfied: python-dateutil>=2.7.3 in /usr/local/lib/python3.7/dist-packages (from pandas>=0.17.0->pyLDAvis) (2.8.2)\n",
            "Requirement already satisfied: pytz>=2017.3 in /usr/local/lib/python3.7/dist-packages (from pandas>=0.17.0->pyLDAvis) (2022.1)\n",
            "Requirement already satisfied: six>=1.5 in /usr/local/lib/python3.7/dist-packages (from python-dateutil>=2.7.3->pandas>=0.17.0->pyLDAvis) (1.15.0)\n",
            "Requirement already satisfied: packaging in /usr/local/lib/python3.7/dist-packages (from numexpr->pyLDAvis) (21.3)\n",
            "Requirement already satisfied: pyparsing!=3.0.5,>=2.0.2 in /usr/local/lib/python3.7/dist-packages (from packaging->numexpr->pyLDAvis) (3.0.8)\n",
            "Requirement already satisfied: py>=1.5.0 in /usr/local/lib/python3.7/dist-packages (from pytest->pyLDAvis) (1.11.0)\n",
            "Requirement already satisfied: atomicwrites>=1.0 in /usr/local/lib/python3.7/dist-packages (from pytest->pyLDAvis) (1.4.0)\n",
            "Requirement already satisfied: more-itertools>=4.0.0 in /usr/local/lib/python3.7/dist-packages (from pytest->pyLDAvis) (8.12.0)\n",
            "Requirement already satisfied: pluggy<0.8,>=0.5 in /usr/local/lib/python3.7/dist-packages (from pytest->pyLDAvis) (0.7.1)\n",
            "Requirement already satisfied: attrs>=17.4.0 in /usr/local/lib/python3.7/dist-packages (from pytest->pyLDAvis) (21.4.0)\n",
            "Requirement already satisfied: setuptools in /usr/local/lib/python3.7/dist-packages (from pytest->pyLDAvis) (57.4.0)\n"
          ]
        },
        {
          "output_type": "execute_result",
          "data": {
            "text/plain": [
              "PreparedData(topic_coordinates=              x         y  topics  cluster       Freq\n",
              "topic                                                \n",
              "9     -0.167611  0.009750       1        1  12.879079\n",
              "7     -0.127524  0.087857       2        1  12.282722\n",
              "0     -0.106233 -0.103644       3        1  12.042828\n",
              "5     -0.145435  0.075036       4        1  11.122424\n",
              "3     -0.019115 -0.055299       5        1  10.357792\n",
              "2      0.077654 -0.248518       6        1   9.660556\n",
              "8     -0.009646  0.041995       7        1   8.754694\n",
              "4      0.163121  0.132806       8        1   7.920921\n",
              "6      0.174931  0.008580       9        1   7.493364\n",
              "1      0.159859  0.051437      10        1   7.485621, topic_info=                Term        Freq       Total Category  logprob  loglift\n",
              "17           vaccine  668.000000  668.000000  Default  30.0000  30.0000\n",
              "4                say   82.000000   82.000000  Default  29.0000  29.0000\n",
              "231             dose  139.000000  139.000000  Default  28.0000  28.0000\n",
              "299            today   78.000000   78.000000  Default  27.0000  27.0000\n",
              "3     pfizerbiontech  562.000000  562.000000  Default  26.0000  26.0000\n",
              "...              ...         ...         ...      ...      ...      ...\n",
              "44      covidvaccine   22.732232   38.677535  Topic10  -3.5669   2.0607\n",
              "1293           right    7.984129   13.230207  Topic10  -4.6132   2.0871\n",
              "3     pfizerbiontech   22.016012  562.656832  Topic10  -3.5989  -0.6487\n",
              "135    pfizervaccine    7.042698   28.591041  Topic10  -4.7387   1.1911\n",
              "500             good    5.401229   40.866259  Topic10  -5.0040   0.5685\n",
              "\n",
              "[416 rows x 6 columns], token_table=      Topic      Freq        Term\n",
              "term                             \n",
              "870       8  0.866083  absolutely\n",
              "452       6  0.960483      accord\n",
              "1356      1  0.952782         add\n",
              "1160      7  0.945098  additional\n",
              "166       1  0.801984  administer\n",
              "...     ...       ...         ...\n",
              "402      10  0.965901       would\n",
              "14        5  0.456110        year\n",
              "14        6  0.536600        year\n",
              "2077      8  0.853059     yearold\n",
              "612       7  0.959257   yesterday\n",
              "\n",
              "[410 rows x 3 columns], R=30, lambda_step=0.01, plot_opts={'xlab': 'PC1', 'ylab': 'PC2'}, topic_order=[10, 8, 1, 6, 4, 3, 9, 5, 7, 2])"
            ],
            "text/html": [
              "\n",
              "<link rel=\"stylesheet\" type=\"text/css\" href=\"https://cdn.rawgit.com/bmabey/pyLDAvis/files/ldavis.v1.0.0.css\">\n",
              "\n",
              "\n",
              "<div id=\"ldavis_el661401935423813921273661117\"></div>\n",
              "<script type=\"text/javascript\">\n",
              "\n",
              "var ldavis_el661401935423813921273661117_data = {\"mdsDat\": {\"x\": [-0.16761100201541856, -0.127523530826521, -0.10623291239649955, -0.14543516454899133, -0.019115422212791854, 0.07765361053416549, -0.009646075445896624, 0.16312075461664238, 0.1749306077694774, 0.15985913452583367], \"y\": [0.009750329339927323, 0.08785669515224477, -0.10364357248332932, 0.07503564162443321, -0.055298841702296646, -0.24851764515750988, 0.04199530011779927, 0.1328056808730782, 0.008579634334064654, 0.051436777901588494], \"topics\": [1, 2, 3, 4, 5, 6, 7, 8, 9, 10], \"cluster\": [1, 1, 1, 1, 1, 1, 1, 1, 1, 1], \"Freq\": [12.879078723744614, 12.282722008228857, 12.042828298456316, 11.122423553882339, 10.357792448468077, 9.660556077069762, 8.754693824750143, 7.9209207553243015, 7.493363672499788, 7.485620637575807]}, \"tinfo\": {\"Term\": [\"vaccine\", \"say\", \"dose\", \"today\", \"pfizerbiontech\", \"get\", \"receive\", \"vaccinate\", \"thank\", \"vaccination\", \"day\", \"week\", \"approve\", \"think\", \"second\", \"shoot\", \"have\", \"covid\", \"start\", \"covidvaccine\", \"know\", \"new\", \"feel\", \"government\", \"year\", \"take\", \"die\", \"question\", \"emergency\", \"people\", \"patient\", \"soon\", \"total\", \"effective\", \"break\", \"public\", \"inoculation\", \"immunity\", \"protect\", \"cost\", \"million\", \"life\", \"big\", \"list\", \"encourage\", \"apart\", \"ingredient\", \"modernavaccine\", \"add\", \"light\", \"online\", \"complete\", \"ahead\", \"inoculate\", \"hit\", \"evil\", \"refuse\", \"night\", \"reach\", \"link\", \"administer\", \"week\", \"begin\", \"start\", \"pfizerbiontech\", \"receive\", \"vaccine\", \"dose\", \"realdonaldtrump\", \"vaccination\", \"covid\", \"have\", \"question\", \"approval\", \"follow\", \"free\", \"shot\", \"look\", \"effect\", \"buy\", \"arm\", \"morning\", \"injection\", \"hour\", \"recommend\", \"care\", \"health\", \"sore\", \"experience\", \"pandemic\", \"answer\", \"far\", \"phase\", \"help\", \"mean\", \"here\", \"soreness\", \"check\", \"better\", \"set\", \"company\", \"make\", \"worker\", \"vaccine\", \"pfizerbiontech\", \"receive\", \"great\", \"people\", \"dose\", \"covid\", \"hospital\", \"covidvaccine\", \"take\", \"develop\", \"scientist\", \"grateful\", \"roll\", \"let\", \"delay\", \"woman\", \"really\", \"available\", \"vaccinated\", \"elderly\", \"staff\", \"post\", \"thankful\", \"tunnel\", \"light_end\", \"point\", \"clinical\", \"vulnerable\", \"batch\", \"development\", \"love\", \"course\", \"stop\", \"source\", \"hard\", \"pose\", \"choose\", \"information\", \"safe\", \"get\", \"test\", \"covid\", \"good\", \"vaccine\", \"s\", \"pfizerbiontech\", \"thank\", \"give\", \"say\", \"second\", \"government\", \"arrive\", \"hope\", \"delivery\", \"change\", \"wait\", \"expect\", \"expert\", \"agree\", \"regulator\", \"month\", \"report\", \"announce\", \"move\", \"watch\", \"provide\", \"local\", \"produce\", \"include\", \"pharmacy\", \"strain\", \"face\", \"lie\", \"site\", \"vial\", \"supply\", \"standard\", \"state\", \"approve\", \"dose\", \"faint\", \"vaccine\", \"pfizerbiontech\", \"start\", \"receive\", \"people\", \"covid\", \"day\", \"shoot\", \"come\", \"nurse\", \"trial\", \"positive\", \"huge\", \"article\", \"old\", \"vaccin\", \"ready\", \"tomorrow\", \"folk\", \"trump\", \"interesting\", \"true\", \"excited\", \"mass\", \"doctor\", \"early\", \"number\", \"vaccineswork\", \"different\", \"fight\", \"professional\", \"offer\", \"safety\", \"ago\", \"send\", \"flu\", \"pfizervaccine\", \"work\", \"be\", \"need\", \"give\", \"year\", \"great\", \"get\", \"pfizerbiontech\", \"vaccine\", \"covid\", \"test\", \"people\", \"know\", \"new\", \"campaign\", \"share\", \"way\", \"resident\", \"case\", \"late\", \"spend\", \"evidence\", \"scientific\", \"book\", \"accord\", \"risk\", \"variant\", \"cancel\", \"medium\", \"pfizer\", \"vaccinate\", \"incredibly\", \"step\", \"appointment\", \"fellow\", \"statement\", \"spread\", \"well\", \"speed\", \"scared\", \"vote\", \"admit\", \"today\", \"thank\", \"vaccination\", \"year\", \"science\", \"good\", \"team\", \"get\", \"vaccine\", \"start\", \"pfizerbiontech\", \"begin\", \"die\", \"emergency\", \"yesterday\", \"virus\", \"happy\", \"possible\", \"researcher\", \"news\", \"read\", \"additional\", \"stay\", \"base\", \"finally\", \"datum\", \"line\", \"result\", \"tell\", \"grant\", \"hopefully\", \"distribute\", \"tweet\", \"real\", \"fear\", \"drive\", \"world\", \"wear\", \"suggest\", \"money\", \"mutation\", \"history\", \"country\", \"vaccine\", \"approve\", \"pfizerbiontech\", \"week\", \"lead\", \"update\", \"use\", \"end\", \"extra\", \"order\", \"ask\", \"home\", \"live\", \"family\", \"concern\", \"volunteer\", \"malice\", \"httpstcoa\", \"reaction\", \"shift\", \"yearold\", \"suffer\", \"absolutely\", \"matthancock\", \"food\", \"difference\", \"tv\", \"allow\", \"human\", \"cell\", \"meeting\", \"support\", \"nursing\", \"claim\", \"people\", \"country\", \"covid\", \"vaccine\", \"feel\", \"friend\", \"httpstco\", \"turn\", \"believe\", \"person\", \"thing\", \"little\", \"symptom\", \"population\", \"social\", \"europeanunion\", \"proud\", \"rabie\", \"fine\", \"nejm\", \"launch\", \"efficacy\", \"pahowho\", \"officially\", \"inform\", \"completely\", \"medicine\", \"talk\", \"manage\", \"lockdown\", \"forward\", \"try\", \"super\", \"humble\", \"time\", \"receive\", \"today\", \"pfizerbiontech\", \"be\", \"think\", \"want\", \"plan\", \"medical\", \"death\", \"bring\", \"amp\", \"see\", \"happen\", \"colleague\", \"worry\", \"easy\", \"present\", \"would\", \"httpstcou\", \"mhragovuk\", \"record\", \"twice\", \"trust\", \"fact\", \"investigate\", \"usual\", \"member\", \"cou\", \"healthy\", \"vacc\", \"process\", \"community\", \"measle\", \"doubt\", \"go\", \"covidvaccine\", \"right\", \"pfizerbiontech\", \"pfizervaccine\", \"good\"], \"Freq\": [668.0, 82.0, 139.0, 78.0, 562.0, 90.0, 133.0, 50.0, 59.0, 82.0, 41.0, 54.0, 50.0, 30.0, 34.0, 32.0, 32.0, 112.0, 58.0, 38.0, 27.0, 27.0, 24.0, 28.0, 37.0, 27.0, 23.0, 26.0, 22.0, 55.0, 17.48539009081277, 16.721152307583978, 13.826130495214542, 12.402924462994505, 11.9852510202641, 10.426200267986989, 10.35073148059963, 9.334093010703183, 9.05374094518201, 8.216549205523679, 7.7530387772020255, 7.505592307521286, 7.002214070576733, 6.654929456698884, 6.595966343164703, 6.25651897427695, 6.187531357647816, 5.807235396063614, 5.5912726754894635, 5.416663448288678, 5.215091686663555, 4.746160507970892, 4.728063397501328, 4.699895356288362, 4.5222173904905825, 4.428958430976207, 4.273462563883325, 4.267108424329893, 3.9932581640773677, 3.675139785854205, 20.305544740739375, 41.72769764057625, 18.899228055300696, 31.297481380998157, 195.18763239010514, 58.98604879251679, 196.25943013050494, 49.434127572531516, 6.736978718425878, 28.89915028971082, 9.579160708229203, 32.02359002724321, 26.27815787384309, 25.026191861653103, 19.74596123604983, 19.19599345669182, 18.827743198436906, 18.026005421533636, 17.09965870885915, 16.543152567172914, 14.473334101024642, 13.933111138206616, 13.90597988640105, 13.38282849414657, 11.929962812834104, 11.83231293723453, 11.410025254432833, 10.995127052607055, 10.157901809891827, 9.246044408242115, 9.003469443948514, 8.903912546003207, 7.846881607730518, 7.643145081439104, 7.235499222252229, 7.133274583921306, 6.664987136056454, 6.579276905359301, 6.557059879791968, 6.378815709933213, 6.333740244962169, 17.339144063264015, 18.469986790329553, 109.65479097077635, 92.9113881429289, 34.34279732662759, 11.499916666983788, 16.500361716201997, 23.16219036571615, 19.043817870269258, 9.299138468623031, 10.000255449271378, 27.09647031920439, 24.550147313643755, 23.842692935305212, 23.480799267456742, 17.558218580665066, 16.55210768383695, 14.09211636886163, 13.291490331380713, 12.417381662724823, 11.81137395485421, 11.169363556350481, 11.026479121503552, 9.201321182312048, 8.581064946852235, 8.531394981247077, 8.020763954117319, 8.020763954117319, 7.938300849415475, 7.559669638621358, 7.33941830977818, 7.280907154208974, 6.5089813691388, 5.974302522372122, 5.949909207144301, 5.720196846334548, 5.614077845440962, 5.328539306141038, 4.88641046763677, 4.882944959942685, 4.81592574933783, 12.745417968583164, 55.357486286470156, 16.8433104213584, 47.36594293850695, 21.173539916107785, 138.04203617626737, 12.352954272010882, 79.9742967633428, 18.107458890817938, 11.948726842491823, 81.78564978195469, 33.41120366183537, 27.463021823124716, 18.515702991556115, 17.01803400056821, 15.675166628319285, 14.33601028047941, 13.87777004614245, 10.395795587832938, 10.2274830335879, 9.99624233104282, 9.841026396253369, 9.293736054885917, 8.830587511854274, 8.808006173350826, 8.13517528430885, 8.098285563277472, 7.780041274515713, 7.35544806986351, 7.031678453342659, 6.840136913327106, 6.732587928768968, 6.569236029601333, 6.255061950534315, 6.253457032715155, 6.077909540126423, 5.450435121082693, 5.387542612873014, 4.876392993762907, 4.843868070048173, 33.99241334545301, 66.19291868264509, 8.734610976012293, 89.98613163371891, 76.44810965898459, 15.676204645951108, 19.296420332261853, 11.89623002708245, 11.342910941679527, 40.73438405901963, 31.7813541122259, 20.76554400791412, 19.99350018243194, 18.252094142164733, 14.46892859047607, 13.583091991263398, 12.826465933789605, 12.475874290484533, 11.529766820167442, 9.966469449641483, 8.319026226390857, 7.259298155198259, 7.088914445842239, 6.849728492979986, 6.660687884132893, 6.417437199832709, 6.166710998349853, 5.926946814363169, 5.9097186384127305, 5.814358732024651, 5.704287381207986, 5.572496321016039, 5.412069596044848, 5.264962930653049, 5.241809830400701, 4.962702593270525, 4.760088332897988, 4.7319785213565675, 4.668897395128118, 20.91055711362042, 16.70749723293653, 17.63356004906391, 14.711704762239163, 19.32108843195046, 17.08476114816246, 10.420646920496726, 19.724582777915177, 42.777233652794045, 42.104581275189936, 15.766229271904814, 9.528672255285157, 11.828821734608162, 27.062033659533764, 26.646775661303156, 13.65657726813922, 12.415903235165004, 11.747353587410068, 11.500643906688211, 9.980403554194975, 9.617863217907253, 9.021888385770733, 8.644329668286899, 8.152372966577067, 7.705507684738653, 7.618271446549656, 7.097006410211895, 6.983628515066174, 6.8827978607129925, 6.24239570652735, 5.778790129255847, 45.05727953588383, 5.296069852902567, 5.210341257038475, 5.190590030109545, 5.084589279891461, 4.9901785602763145, 4.983079049835203, 4.297140970389438, 4.14414163517735, 4.004872389428175, 3.9130815429772388, 3.83712432672422, 64.63357932568645, 40.69487753222916, 41.158385889062, 19.55252189545155, 10.44211260738693, 13.734919529083962, 7.132776276382461, 15.32668220130245, 22.68019724182242, 10.531413207925203, 11.718309344122979, 6.895966635155677, 22.674020120303346, 21.475698351388125, 15.975133875952883, 13.552943638485333, 13.293268682254991, 12.934209604074127, 11.50357163128006, 11.438459589066442, 11.060448035011218, 8.818287470196537, 8.465974277665016, 8.281518357235209, 8.206337017741747, 7.983244135879375, 7.848969890087618, 7.31852805843547, 7.312575986880405, 6.85490599937315, 6.809011622170852, 6.71345542870478, 6.505668562501242, 6.132307242419631, 5.914200792990458, 5.904337072082908, 5.891433538506207, 5.831906686347426, 5.833195374054318, 5.73014287543067, 5.478337242466261, 5.35499054243397, 10.437900536977574, 63.5793419277557, 15.988855331727223, 29.336870448409236, 11.830002364044036, 16.569890159889933, 14.9033272916809, 13.52071372520674, 13.487145278953387, 11.865619269747041, 11.764333332181216, 11.002241084707231, 10.214648493510232, 9.372267045609943, 8.796309064455297, 8.765084428954712, 8.524558682983564, 7.551988264072144, 7.0330289050208625, 6.528534149960396, 6.5266166668826235, 6.3270921423134565, 6.23712153611785, 6.221345032639698, 6.171293767011292, 5.97023129014107, 5.905977959052869, 5.746126099875232, 5.604272010508446, 5.518716572690261, 5.357414009665987, 5.256950983658875, 5.2321450583162505, 4.916039148954057, 4.472567945832799, 14.903425644484061, 8.501166579186393, 8.68780530020582, 5.8247548035804115, 23.515495428146934, 19.27451265557997, 16.45311860376434, 16.010534305339462, 12.431263959487561, 11.788265361413632, 10.77019031315804, 8.73436211851081, 7.952512764680805, 7.833259004218258, 7.276698184979311, 6.850318531435504, 6.392347473984354, 6.247620696091601, 5.915957852189191, 5.818977974898169, 5.6386202623647295, 5.58142190283903, 5.435663763379828, 5.146987199156387, 5.102355768342868, 5.079614414632312, 5.004048890011274, 4.651609494334829, 4.46691886265591, 4.4141558455960395, 4.2341905682021075, 4.217656893094123, 4.128829236784321, 3.941498109396173, 15.94211552734603, 17.189239884416793, 13.363261398825884, 12.20536838851436, 5.120044613426515, 30.04265015906779, 19.12888410202944, 15.581359268149285, 12.35265346688716, 11.46211281549563, 10.662741165376596, 10.085603091348956, 10.033632555487461, 8.760036230748055, 8.037513631559, 6.802433655668006, 6.691415062424177, 6.640612370084125, 6.532845448981516, 5.703021791814741, 5.58154957485458, 5.50208749278484, 5.394265852441496, 4.94812564073377, 4.842374336594679, 4.7625899357096495, 4.579223136480969, 4.524937526989193, 4.237595924998712, 4.164453915233881, 4.16329619102408, 3.9525517815404667, 3.8328882978391268, 3.7532916664034697, 3.5671030783837283, 13.102720082789274, 22.73223155640311, 7.984129390382072, 22.01601216399956, 7.042697596370945, 5.401228688430382], \"Total\": [668.0, 82.0, 139.0, 78.0, 562.0, 90.0, 133.0, 50.0, 59.0, 82.0, 41.0, 54.0, 50.0, 30.0, 34.0, 32.0, 32.0, 112.0, 58.0, 38.0, 27.0, 27.0, 24.0, 28.0, 37.0, 27.0, 23.0, 26.0, 22.0, 55.0, 18.191466625044264, 17.427235769678262, 14.532167912029987, 13.108985492788182, 12.691261530605393, 11.132241917568965, 11.05677640254669, 10.040310992093135, 9.759854719482417, 8.922642166291487, 8.459314077926013, 8.211737954180911, 7.708307644173069, 7.360923150303807, 7.302872300955331, 6.962830415098036, 6.8935538781800885, 6.513500178168352, 6.29734916869878, 6.122886536763085, 5.9221352319173155, 5.452187433919351, 5.434148643799302, 5.4063263125016405, 5.228462320121608, 5.1361340327578695, 4.979895650999891, 4.973170800990441, 4.699397413050694, 4.381163769829258, 24.93814526857609, 54.180300018318086, 26.424138043696423, 58.05818200582184, 562.6568315587352, 133.06010373749322, 668.2768915695511, 139.33414408104176, 9.006965044541667, 82.04878739559068, 112.0921387744748, 32.726452523708964, 26.980826322133026, 25.72904660555234, 20.448685152281524, 19.898984772110854, 19.530416391863458, 18.72869283430715, 17.802300505072747, 17.24589974116367, 15.17595870114589, 14.635794216563, 14.6086885308295, 14.085475169264376, 12.632685579894359, 12.53498783867999, 12.112686730288523, 11.697772811436128, 10.86070488753107, 9.948898557175012, 9.706133225321622, 9.60658750571987, 8.549827740683178, 8.345805817860429, 7.938164603581691, 7.8359873629046275, 7.367601934754582, 7.2819991806195805, 7.259856248760314, 7.0814726785047135, 7.036403995225454, 20.300650014144267, 23.926034014599118, 668.2768915695511, 562.6568315587352, 133.06010373749322, 22.546972561768925, 55.597644837170144, 139.33414408104176, 112.0921387744748, 14.919621311465189, 38.677534742769865, 27.80385166337547, 25.257549217051057, 24.550046054413894, 24.188156811027604, 18.265695784183798, 17.259607353250615, 14.799824144522075, 13.998908395640372, 13.124822247374027, 12.518729934416463, 11.876730379706668, 11.734073498338978, 9.908688419762422, 9.288452680486415, 9.238766381536502, 8.728081777781638, 8.728081777781638, 8.645867578987442, 8.267162744769184, 8.047137416624127, 7.988248357387187, 7.216341533398482, 6.681897056648006, 6.657374164184681, 6.427597461823714, 6.321561703158959, 6.035891475995735, 5.593753650740999, 5.590334009035284, 5.523439119220813, 16.123821542521707, 90.96259617760276, 27.003024610895267, 112.0921387744748, 40.86625883284013, 668.2768915695511, 19.83456360164468, 562.6568315587352, 59.43265264685018, 31.90081659290949, 82.49771873811665, 34.12335203335752, 28.17511975940265, 19.22771426255529, 17.730088774477046, 16.38721433623919, 15.048628771704506, 14.589898827356302, 11.107872266366673, 10.93950046689488, 10.710678567596368, 10.553397113865197, 10.005793777808337, 9.542604989731979, 9.520028545387486, 8.847287516769843, 8.810298985958052, 8.492200845259848, 8.067462716471136, 7.743728317046317, 7.5523778257207885, 7.4446518089681035, 7.2813709670238564, 6.967428155920446, 6.9656701586352705, 6.789992263199695, 6.162443718966748, 6.099541322688687, 5.588404582465826, 5.5558846807423246, 50.60976680077249, 139.33414408104176, 11.79885241179692, 668.2768915695511, 562.6568315587352, 58.05818200582184, 133.06010373749322, 55.597644837170144, 112.0921387744748, 41.44596855645707, 32.49287200791434, 21.47709767333865, 20.705019691427772, 18.963883445980166, 15.180946565009442, 14.294724062895183, 13.53800347436869, 13.187433833913886, 12.241289742540737, 10.678234236310859, 9.030551960054732, 7.971147963126845, 7.800599772368919, 7.561250644383488, 7.37254424526012, 7.128917461385287, 6.878564018353898, 6.63841002501598, 6.621195196832205, 6.525844479782926, 6.4157610619852345, 6.285246863433071, 6.123547856902409, 5.976517839286914, 5.953270223595279, 5.674179526945915, 5.471676087388893, 5.44375692681678, 5.380501807017133, 28.591040549753853, 24.726779305502138, 26.78698982832072, 21.995807075712968, 31.90081659290949, 37.2716971019011, 22.546972561768925, 90.96259617760276, 562.6568315587352, 668.2768915695511, 112.0921387744748, 27.003024610895267, 55.597644837170144, 27.77295167401789, 27.357620990070345, 14.367428030049183, 13.126783098333357, 12.458311317814578, 12.211555003081742, 10.691331405955966, 10.328718910141877, 9.73503619199134, 9.35551016487737, 8.863262637754783, 8.416471155010045, 8.329143526955955, 7.807977085994453, 7.694502384098781, 7.593750985087998, 6.953514666982188, 6.489727943972472, 50.848283911643186, 6.007078804915487, 5.921318779880106, 5.9016282570621685, 5.795403522743575, 5.701739417352339, 5.6940687150042155, 5.008003373486235, 4.854985254062269, 4.715758493689077, 4.624048554894445, 4.548340240849005, 78.63589094459692, 59.43265264685018, 82.04878739559068, 37.2716971019011, 21.285953819888416, 40.86625883284013, 13.572593865316023, 90.96259617760276, 668.2768915695511, 58.05818200582184, 562.6568315587352, 26.424138043696423, 23.378622480197926, 22.180152363055036, 16.679573046954932, 14.257363194833829, 13.997728896733616, 13.63868456254093, 12.208132193949572, 12.142936904497637, 11.764816709383526, 9.522821524553587, 9.170432038135608, 8.985922111616603, 8.910749066123135, 8.688086794090331, 8.553392233833575, 8.02296236553777, 8.016975083946571, 7.559297470007082, 7.513509326719581, 7.417928067646882, 7.2107577829559455, 6.837591124674955, 6.6186283797875225, 6.608793824121169, 6.595810240289588, 6.536333707902557, 6.538998074491459, 6.434501711845946, 6.182695797706659, 6.0593908755997585, 19.561918520224054, 668.2768915695511, 50.60976680077249, 562.6568315587352, 54.180300018318086, 17.276212315615574, 15.609797797072233, 14.227041105492907, 14.193571208216735, 12.572220457399077, 12.470782944667347, 11.70865118743376, 10.92097909258308, 10.078608109354892, 9.502719454543257, 9.471479067633416, 9.23100725450483, 8.258343554783792, 7.739572390816238, 7.234838275278557, 7.233045012285863, 7.033507704794039, 6.943426528727453, 6.927741184250409, 6.880919706053365, 6.67660326671628, 6.6123211443541265, 6.452632095173254, 6.310749450165727, 6.2251509171912085, 6.063710532682167, 5.9634149178353955, 5.938574522942938, 5.6223648532741155, 5.17914352951128, 55.597644837170144, 19.561918520224054, 112.0921387744748, 668.2768915695511, 24.23159697379201, 19.990714969015713, 17.169332150200372, 16.72675168943643, 13.147509213583037, 12.504384546422784, 11.486313676995808, 9.450508847033474, 8.668924260896777, 8.55004851017119, 7.992793824274136, 7.566516518264682, 7.108464550467135, 6.963749423137457, 6.632040970218082, 6.535218035933665, 6.354736402515763, 6.297512630554648, 6.15171193534444, 5.863191273638552, 5.821541439902825, 5.7957557914533595, 5.7203904878103, 5.367823623516596, 5.182997605394643, 5.130239638167547, 4.950299247519816, 4.934305867205024, 4.8449784929968445, 4.657671144022557, 20.088568260267376, 133.06010373749322, 78.63589094459692, 562.6568315587352, 26.78698982832072, 30.756806481641238, 19.843072400791744, 16.29565992128826, 13.066870388554296, 12.17629008723048, 11.377036951512723, 10.799876449862516, 10.74778507326425, 9.47419070307343, 8.751788526534146, 7.516622801662328, 7.405590917119293, 7.354864385573057, 7.247118042170967, 6.417239790461907, 6.296576237005263, 6.216384592594679, 6.108496789018398, 5.662297533125155, 5.556523510142563, 5.4769190821665, 5.293574067295326, 5.239079509691349, 4.952263508020275, 4.878663186425607, 4.8793787141348846, 4.666681289718376, 4.547342395193923, 4.468072552691831, 4.281331972147086, 17.84931674491216, 38.677534742769865, 13.230206994881392, 562.6568315587352, 28.591040549753853, 40.86625883284013], \"Category\": [\"Default\", \"Default\", \"Default\", \"Default\", \"Default\", \"Default\", \"Default\", \"Default\", \"Default\", \"Default\", \"Default\", \"Default\", \"Default\", \"Default\", \"Default\", \"Default\", \"Default\", \"Default\", \"Default\", \"Default\", \"Default\", \"Default\", \"Default\", \"Default\", \"Default\", \"Default\", \"Default\", \"Default\", \"Default\", \"Default\", \"Topic1\", \"Topic1\", \"Topic1\", \"Topic1\", \"Topic1\", \"Topic1\", \"Topic1\", \"Topic1\", \"Topic1\", \"Topic1\", \"Topic1\", \"Topic1\", \"Topic1\", \"Topic1\", \"Topic1\", \"Topic1\", \"Topic1\", \"Topic1\", \"Topic1\", \"Topic1\", \"Topic1\", \"Topic1\", \"Topic1\", \"Topic1\", \"Topic1\", \"Topic1\", \"Topic1\", \"Topic1\", \"Topic1\", \"Topic1\", \"Topic1\", \"Topic1\", \"Topic1\", \"Topic1\", \"Topic1\", \"Topic1\", \"Topic1\", \"Topic1\", \"Topic1\", \"Topic1\", \"Topic1\", \"Topic2\", \"Topic2\", \"Topic2\", \"Topic2\", \"Topic2\", \"Topic2\", \"Topic2\", \"Topic2\", \"Topic2\", \"Topic2\", \"Topic2\", \"Topic2\", \"Topic2\", \"Topic2\", \"Topic2\", \"Topic2\", \"Topic2\", \"Topic2\", \"Topic2\", \"Topic2\", \"Topic2\", \"Topic2\", \"Topic2\", \"Topic2\", \"Topic2\", \"Topic2\", \"Topic2\", \"Topic2\", \"Topic2\", \"Topic2\", \"Topic2\", \"Topic2\", \"Topic2\", \"Topic2\", \"Topic2\", \"Topic2\", \"Topic2\", \"Topic2\", \"Topic2\", \"Topic2\", \"Topic2\", \"Topic3\", \"Topic3\", \"Topic3\", \"Topic3\", \"Topic3\", \"Topic3\", \"Topic3\", \"Topic3\", \"Topic3\", \"Topic3\", \"Topic3\", \"Topic3\", \"Topic3\", \"Topic3\", \"Topic3\", \"Topic3\", \"Topic3\", \"Topic3\", \"Topic3\", \"Topic3\", \"Topic3\", \"Topic3\", \"Topic3\", \"Topic3\", \"Topic3\", \"Topic3\", \"Topic3\", \"Topic3\", \"Topic3\", \"Topic3\", \"Topic3\", \"Topic3\", \"Topic3\", \"Topic3\", \"Topic3\", \"Topic3\", \"Topic3\", \"Topic3\", \"Topic3\", \"Topic3\", \"Topic4\", \"Topic4\", \"Topic4\", \"Topic4\", \"Topic4\", \"Topic4\", \"Topic4\", \"Topic4\", \"Topic4\", \"Topic4\", \"Topic4\", \"Topic4\", \"Topic4\", \"Topic4\", \"Topic4\", \"Topic4\", \"Topic4\", \"Topic4\", \"Topic4\", \"Topic4\", \"Topic4\", \"Topic4\", \"Topic4\", \"Topic4\", \"Topic4\", \"Topic4\", \"Topic4\", \"Topic4\", \"Topic4\", \"Topic4\", \"Topic4\", \"Topic4\", \"Topic4\", \"Topic4\", \"Topic4\", \"Topic4\", \"Topic4\", \"Topic4\", \"Topic4\", \"Topic5\", \"Topic5\", \"Topic5\", \"Topic5\", \"Topic5\", \"Topic5\", \"Topic5\", \"Topic5\", \"Topic5\", \"Topic5\", \"Topic5\", \"Topic5\", \"Topic5\", \"Topic5\", \"Topic5\", \"Topic5\", \"Topic5\", \"Topic5\", \"Topic5\", \"Topic5\", \"Topic5\", \"Topic5\", \"Topic5\", \"Topic5\", \"Topic5\", \"Topic5\", \"Topic5\", \"Topic5\", \"Topic5\", \"Topic5\", \"Topic5\", \"Topic5\", \"Topic5\", \"Topic5\", \"Topic5\", \"Topic5\", \"Topic5\", \"Topic5\", \"Topic5\", \"Topic5\", \"Topic5\", \"Topic5\", \"Topic5\", \"Topic6\", \"Topic6\", \"Topic6\", \"Topic6\", \"Topic6\", \"Topic6\", \"Topic6\", \"Topic6\", \"Topic6\", \"Topic6\", \"Topic6\", \"Topic6\", \"Topic6\", \"Topic6\", \"Topic6\", \"Topic6\", \"Topic6\", \"Topic6\", \"Topic6\", \"Topic6\", \"Topic6\", \"Topic6\", \"Topic6\", \"Topic6\", \"Topic6\", \"Topic6\", \"Topic6\", \"Topic6\", \"Topic6\", \"Topic6\", \"Topic6\", \"Topic6\", \"Topic6\", \"Topic6\", \"Topic6\", \"Topic6\", \"Topic6\", \"Topic6\", \"Topic6\", \"Topic6\", \"Topic6\", \"Topic6\", \"Topic7\", \"Topic7\", \"Topic7\", \"Topic7\", \"Topic7\", \"Topic7\", \"Topic7\", \"Topic7\", \"Topic7\", \"Topic7\", \"Topic7\", \"Topic7\", \"Topic7\", \"Topic7\", \"Topic7\", \"Topic7\", \"Topic7\", \"Topic7\", \"Topic7\", \"Topic7\", \"Topic7\", \"Topic7\", \"Topic7\", \"Topic7\", \"Topic7\", \"Topic7\", \"Topic7\", \"Topic7\", \"Topic7\", \"Topic7\", \"Topic7\", \"Topic7\", \"Topic7\", \"Topic7\", \"Topic7\", \"Topic8\", \"Topic8\", \"Topic8\", \"Topic8\", \"Topic8\", \"Topic8\", \"Topic8\", \"Topic8\", \"Topic8\", \"Topic8\", \"Topic8\", \"Topic8\", \"Topic8\", \"Topic8\", \"Topic8\", \"Topic8\", \"Topic8\", \"Topic8\", \"Topic8\", \"Topic8\", \"Topic8\", \"Topic8\", \"Topic8\", \"Topic8\", \"Topic8\", \"Topic8\", \"Topic8\", \"Topic8\", \"Topic8\", \"Topic8\", \"Topic8\", \"Topic8\", \"Topic8\", \"Topic8\", \"Topic9\", \"Topic9\", \"Topic9\", \"Topic9\", \"Topic9\", \"Topic9\", \"Topic9\", \"Topic9\", \"Topic9\", \"Topic9\", \"Topic9\", \"Topic9\", \"Topic9\", \"Topic9\", \"Topic9\", \"Topic9\", \"Topic9\", \"Topic9\", \"Topic9\", \"Topic9\", \"Topic9\", \"Topic9\", \"Topic9\", \"Topic9\", \"Topic9\", \"Topic9\", \"Topic9\", \"Topic9\", \"Topic9\", \"Topic9\", \"Topic9\", \"Topic9\", \"Topic9\", \"Topic9\", \"Topic9\", \"Topic10\", \"Topic10\", \"Topic10\", \"Topic10\", \"Topic10\", \"Topic10\", \"Topic10\", \"Topic10\", \"Topic10\", \"Topic10\", \"Topic10\", \"Topic10\", \"Topic10\", \"Topic10\", \"Topic10\", \"Topic10\", \"Topic10\", \"Topic10\", \"Topic10\", \"Topic10\", \"Topic10\", \"Topic10\", \"Topic10\", \"Topic10\", \"Topic10\", \"Topic10\", \"Topic10\", \"Topic10\", \"Topic10\", \"Topic10\", \"Topic10\", \"Topic10\", \"Topic10\", \"Topic10\", \"Topic10\", \"Topic10\"], \"logprob\": [30.0, 29.0, 28.0, 27.0, 26.0, 25.0, 24.0, 23.0, 22.0, 21.0, 20.0, 19.0, 18.0, 17.0, 16.0, 15.0, 14.0, 13.0, 12.0, 11.0, 10.0, 9.0, 8.0, 7.0, 6.0, 5.0, 4.0, 3.0, 2.0, 1.0, -4.3719000816345215, -4.416600227355957, -4.6066999435424805, -4.7153000831604, -4.749599933624268, -4.888999938964844, -4.896200180053711, -4.999599933624268, -5.030099868774414, -5.127099990844727, -5.185200214385986, -5.217599868774414, -5.287099838256836, -5.337900161743164, -5.346799850463867, -5.399700164794922, -5.410699844360352, -5.4741997718811035, -5.5121002197265625, -5.543799877166748, -5.581699848175049, -5.675899982452393, -5.679800033569336, -5.685699939727783, -5.724299907684326, -5.745100021362305, -5.780900001525879, -5.782299995422363, -5.848700046539307, -5.931700229644775, -4.222400188446045, -3.5020999908447266, -4.2941999435424805, -3.7897000312805176, -1.9593000411987305, -3.1559998989105225, -1.9537999629974365, -3.3326001167297363, -5.325699806213379, -3.869499921798706, -4.973700046539307, -3.719399929046631, -3.917099952697754, -3.96589994430542, -4.202899932861328, -4.231200218200684, -4.250500202178955, -4.294099807739258, -4.346799850463867, -4.379899978637695, -4.513599872589111, -4.551599979400635, -4.553599834442139, -4.591899871826172, -4.7067999839782715, -4.715000152587891, -4.751399993896484, -4.788400173187256, -4.867599964141846, -4.961699962615967, -4.98829984664917, -4.9994001388549805, -5.125800132751465, -5.152100086212158, -5.206900119781494, -5.221099853515625, -5.289000034332275, -5.3018999099731445, -5.305300235748291, -5.332900047302246, -5.340000152587891, -4.332900047302246, -4.269700050354004, -2.4885001182556152, -2.6542000770568848, -3.6494998931884766, -4.743500232696533, -4.382500171661377, -4.043300151824951, -4.239099979400635, -4.955900192260742, -4.883299827575684, -3.8666999340057373, -3.965399980545044, -3.9946999549865723, -4.010000228881836, -4.300600051879883, -4.359600067138672, -4.520500183105469, -4.578999996185303, -4.646999835968018, -4.6971001625061035, -4.752999782562256, -4.7657999992370605, -4.946800231933594, -5.016600131988525, -5.02239990234375, -5.084099769592285, -5.084099769592285, -5.094399929046631, -5.1433000564575195, -5.172900199890137, -5.1809000968933105, -5.293000221252441, -5.378699779510498, -5.382800102233887, -5.422100067138672, -5.440899848937988, -5.493100166320801, -5.579699993133545, -5.580399990081787, -5.594200134277344, -4.620999813079834, -3.1522998809814453, -4.342199802398682, -3.308199882507324, -4.113399982452393, -2.238600015640259, -4.652299880981445, -2.78439998626709, -4.269800186157227, -4.685500144958496, -2.682499885559082, -3.577699899673462, -3.7737998962402344, -4.168000221252441, -4.252399921417236, -4.33459997177124, -4.423900127410889, -4.456399917602539, -4.745200157165527, -4.761600017547607, -4.78439998626709, -4.800099849700928, -4.8572998046875, -4.908400058746338, -4.910999774932861, -4.9903998374938965, -4.994999885559082, -5.035099983215332, -5.09119987487793, -5.136199951171875, -5.16379976272583, -5.179699897766113, -5.20419979095459, -5.253200054168701, -5.253499984741211, -5.2820000648498535, -5.390900135040283, -5.402599811553955, -5.502200126647949, -5.508900165557861, -3.560499906539917, -2.8940999507904053, -4.919300079345703, -2.5869998931884766, -2.75, -4.334499835968018, -4.126699924468994, -4.610400199890137, -4.6579999923706055, -3.308300018310547, -3.55649995803833, -3.982100009918213, -4.019999980926514, -4.111100196838379, -4.343400001525879, -4.406599998474121, -4.463900089263916, -4.491600036621094, -4.570499897003174, -4.71619987487793, -4.896900177001953, -5.033100128173828, -5.0569000244140625, -5.09119987487793, -5.119200229644775, -5.156400203704834, -5.196300029754639, -5.235899925231934, -5.238800048828125, -5.255099773406982, -5.274199962615967, -5.297599792480469, -5.3267998695373535, -5.354300022125244, -5.358699798583984, -5.41349983215332, -5.455100059509277, -5.461100101470947, -5.4745001792907715, -3.9751999378204346, -4.1996002197265625, -4.145599842071533, -4.3267998695373535, -4.054200172424316, -4.177199840545654, -4.671599864959717, -4.033599853515625, -3.259399890899658, -3.2753000259399414, -4.257500171661377, -4.761099815368652, -4.544899940490723, -3.647599935531616, -3.663100004196167, -4.331500053405762, -4.426799774169922, -4.482100009918213, -4.503300189971924, -4.645100116729736, -4.68209981918335, -4.746099948883057, -4.78879976272583, -4.847400188446045, -4.903800010681152, -4.915200233459473, -4.986100196838379, -5.002200126647949, -5.01669979095459, -5.1143999099731445, -5.191500186920166, -3.1377999782562256, -5.278800010681152, -5.295100212097168, -5.298900127410889, -5.319499969482422, -5.3383002281188965, -5.339700222015381, -5.487800121307373, -5.52400016784668, -5.558199882507324, -5.581399917602539, -5.60099983215332, -2.7769999504089355, -3.2395999431610107, -3.228300094604492, -3.972599983215332, -4.599899768829346, -4.325799942016602, -4.980999946594238, -4.216100215911865, -3.824199914932251, -4.591400146484375, -4.484600067138672, -5.014800071716309, -3.7260000705718994, -3.7802999019622803, -4.076200008392334, -4.240699768066406, -4.260000228881836, -4.287399768829346, -4.404600143432617, -4.410299777984619, -4.443900108337402, -4.670400142669678, -4.71120023727417, -4.7332000732421875, -4.742400169372559, -4.769899845123291, -4.786900043487549, -4.856900215148926, -4.857699871063232, -4.922299861907959, -4.928999900817871, -4.94320011138916, -4.974599838256836, -5.033699989318848, -5.069900035858154, -5.071599960327148, -5.073800086975098, -5.083899974822998, -5.083700180053711, -5.101500034332275, -5.146500110626221, -5.1691999435424805, -4.501800060272217, -2.694999933242798, -4.075399875640869, -3.468400001525879, -4.3765997886657715, -3.9395999908447266, -4.045599937438965, -4.14300012588501, -4.145400047302246, -4.273499965667725, -4.282100200653076, -4.349100112915039, -4.423399925231934, -4.509399890899658, -4.57289981842041, -4.576399803161621, -4.6041998863220215, -4.725399971008301, -4.796599864959717, -4.870999813079834, -4.871300220489502, -4.902299880981445, -4.9166998863220215, -4.9191999435424805, -4.927299976348877, -4.960400104522705, -4.971199989318848, -4.998700141906738, -5.02370023727417, -5.039000034332275, -5.068699836730957, -5.087600231170654, -5.092400074005127, -5.154699802398682, -5.249199867248535, -4.045599937438965, -4.60699987411499, -4.585299968719482, -4.985099792480469, -3.5339999198913574, -3.7328999042510986, -3.891200065612793, -3.9184000492095947, -4.171500205993652, -4.224599838256836, -4.314899921417236, -4.524400234222412, -4.618199825286865, -4.633299827575684, -4.706999778747559, -4.767399787902832, -4.836599826812744, -4.859499931335449, -4.914000034332275, -4.930600166320801, -4.962100028991699, -4.972300052642822, -4.998700141906738, -5.053299903869629, -5.061999797821045, -5.066500186920166, -5.081399917602539, -5.1545000076293945, -5.195000171661377, -5.206900119781494, -5.248499870300293, -5.252399921417236, -5.27370023727417, -5.320099830627441, -3.9226999282836914, -3.847399950027466, -4.0991997718811035, -4.189799785614014, -5.058499813079834, -3.2880001068115234, -3.739500045776367, -3.9446001052856445, -4.176799774169922, -4.2515997886657715, -4.32390022277832, -4.3796000480651855, -4.384699821472168, -4.520500183105469, -4.606500148773193, -4.773399829864502, -4.78980016708374, -4.797500133514404, -4.813799858093262, -4.949699878692627, -4.971199989318848, -4.985499858856201, -5.005300045013428, -5.091700077056885, -5.11329984664917, -5.129899978637695, -5.169099807739258, -5.181099891662598, -5.246699810028076, -5.264100074768066, -5.264400005340576, -5.316299915313721, -5.3470001220703125, -5.368000030517578, -5.418900012969971, -4.117800235748291, -3.5669000148773193, -4.6132001876831055, -3.598900079727173, -4.738699913024902, -5.004000186920166], \"loglift\": [30.0, 29.0, 28.0, 27.0, 26.0, 25.0, 24.0, 23.0, 22.0, 21.0, 20.0, 19.0, 18.0, 17.0, 16.0, 15.0, 14.0, 13.0, 12.0, 11.0, 10.0, 9.0, 8.0, 7.0, 6.0, 5.0, 4.0, 3.0, 2.0, 1.0, 2.01, 2.0082, 1.9998, 1.9942, 1.9923, 1.984, 1.9836, 1.9766, 1.9745, 1.9671, 1.9624, 1.9596, 1.9535, 1.9487, 1.9478, 1.9426, 1.9415, 1.9348, 1.9306, 1.927, 1.9224, 1.9109, 1.9104, 1.9095, 1.9045, 1.9014, 1.8966, 1.8964, 1.8867, 1.8738, 1.8441, 1.7884, 1.7144, 1.4317, 0.9909, 1.2361, 0.8243, 1.0133, 1.7592, 1.0061, -0.4102, 2.0753, 2.0706, 2.0693, 2.062, 2.061, 2.0603, 2.0587, 2.0567, 2.0554, 2.0496, 2.0478, 2.0477, 2.0458, 2.0397, 2.0393, 2.0372, 2.035, 2.0301, 2.0237, 2.0218, 2.021, 2.0112, 2.009, 2.0043, 2.003, 1.9968, 1.9955, 1.9952, 1.9925, 1.9918, 1.9393, 1.8382, 0.2896, 0.296, 0.7426, 1.4237, 0.8822, 0.3026, 0.3244, 1.6242, 0.7443, 2.0909, 2.0883, 2.0875, 2.087, 2.0772, 2.0748, 2.0677, 2.0648, 2.0613, 2.0585, 2.0553, 2.0545, 2.0426, 2.0375, 2.037, 2.0322, 2.0322, 2.0313, 2.0272, 2.0246, 2.024, 2.0135, 2.0048, 2.0044, 2.0001, 1.998, 1.9921, 1.9815, 1.9814, 1.9796, 1.8816, 1.6201, 1.6447, 1.2553, 1.4591, 0.5396, 1.6432, 0.1657, 0.9282, 1.1347, 2.1875, 2.1751, 2.1706, 2.1585, 2.1552, 2.1518, 2.1477, 2.1462, 2.13, 2.1289, 2.1272, 2.1263, 2.1224, 2.1187, 2.1185, 2.1123, 2.1119, 2.1086, 2.1038, 2.0997, 2.0972, 2.0957, 2.0933, 2.0884, 2.0883, 2.0854, 2.0734, 2.0721, 2.0599, 2.0591, 1.7982, 1.4519, 1.8955, 0.1912, 0.2001, 0.8869, 0.2653, 0.6543, -0.0945, 2.2501, 2.2453, 2.2337, 2.2325, 2.2292, 2.2194, 2.2164, 2.2134, 2.212, 2.2075, 2.1984, 2.1854, 2.1739, 2.1718, 2.1686, 2.1659, 2.1623, 2.1582, 2.1541, 2.1538, 2.152, 2.1499, 2.1471, 2.1439, 2.1407, 2.1402, 2.1335, 2.1281, 2.1273, 2.1256, 1.9546, 1.8754, 1.8493, 1.8652, 1.766, 1.4874, 1.4956, 0.7388, -0.3092, -0.4971, 0.306, 1.2258, 0.7198, 2.3112, 2.3108, 2.2864, 2.2814, 2.2784, 2.2771, 2.2683, 2.2658, 2.261, 2.2581, 2.2535, 2.2489, 2.2479, 2.2416, 2.2402, 2.2388, 2.2292, 2.2211, 2.2162, 2.2111, 2.2092, 2.2087, 2.2063, 2.2038, 2.2037, 2.184, 2.1788, 2.1737, 2.1702, 2.1671, 2.141, 1.9584, 1.6472, 1.692, 1.6249, 1.2468, 1.6938, 0.5563, -1.0461, 0.63, -1.5344, 0.9938, 2.405, 2.4033, 2.3924, 2.3849, 2.3839, 2.3825, 2.3761, 2.3758, 2.3738, 2.3587, 2.3557, 2.3539, 2.3532, 2.351, 2.3496, 2.3437, 2.3436, 2.3378, 2.3371, 2.3358, 2.3327, 2.3267, 2.323, 2.3229, 2.3226, 2.3215, 2.3214, 2.3196, 2.3146, 2.312, 1.8074, 0.0832, 1.2833, -0.5182, 0.9139, 2.4939, 2.4893, 2.4847, 2.4846, 2.4778, 2.4773, 2.4734, 2.4688, 2.463, 2.4584, 2.4582, 2.456, 2.4462, 2.4399, 2.4329, 2.4329, 2.4298, 2.4284, 2.4281, 2.4268, 2.4238, 2.4227, 2.4197, 2.4169, 2.4152, 2.4118, 2.4096, 2.409, 2.4014, 2.389, 1.2191, 1.7023, -0.0217, -2.2069, 2.5612, 2.5547, 2.5485, 2.5474, 2.5351, 2.5322, 2.5268, 2.5123, 2.5049, 2.5036, 2.4973, 2.4917, 2.485, 2.4826, 2.4769, 2.4751, 2.4716, 2.4704, 2.4674, 2.4609, 2.4593, 2.4593, 2.4574, 2.4479, 2.4425, 2.4408, 2.4349, 2.4342, 2.4312, 2.4242, 2.36, 0.5446, 0.8188, -1.2396, 0.9364, 2.5687, 2.5555, 2.5474, 2.536, 2.5317, 2.5273, 2.5238, 2.5234, 2.5138, 2.507, 2.4923, 2.4908, 2.49, 2.4884, 2.4742, 2.4716, 2.4701, 2.4678, 2.4574, 2.4546, 2.4524, 2.4472, 2.4456, 2.4363, 2.4339, 2.4335, 2.4261, 2.4213, 2.4179, 2.4097, 2.283, 2.0607, 2.0871, -0.6487, 1.1911, 0.5685]}, \"token.table\": {\"Topic\": [8, 6, 1, 7, 1, 10, 6, 5, 4, 1, 8, 10, 4, 2, 1, 6, 2, 4, 7, 2, 4, 5, 8, 3, 7, 3, 3, 5, 9, 1, 6, 9, 2, 1, 6, 1, 10, 2, 6, 6, 2, 6, 8, 4, 2, 3, 8, 3, 10, 5, 10, 2, 1, 9, 8, 1, 10, 7, 8, 3, 1, 2, 3, 4, 5, 8, 2, 7, 10, 7, 5, 10, 3, 4, 3, 3, 7, 8, 5, 7, 5, 1, 2, 4, 10, 7, 5, 10, 2, 1, 9, 3, 7, 1, 8, 9, 6, 1, 5, 4, 2, 4, 8, 4, 10, 4, 5, 8, 2, 7, 9, 6, 5, 7, 9, 5, 5, 2, 8, 9, 2, 9, 3, 5, 6, 3, 5, 2, 6, 10, 3, 6, 10, 4, 7, 3, 2, 5, 10, 7, 3, 2, 2, 10, 2, 2, 7, 1, 8, 4, 7, 2, 4, 2, 9, 8, 10, 5, 8, 9, 1, 4, 6, 9, 3, 1, 2, 1, 1, 5, 10, 6, 6, 9, 8, 3, 4, 1, 1, 3, 7, 1, 1, 9, 8, 4, 9, 2, 3, 2, 7, 8, 9, 5, 8, 2, 10, 10, 9, 6, 8, 10, 10, 1, 1, 7, 4, 2, 4, 7, 2, 5, 9, 6, 7, 1, 5, 5, 8, 5, 9, 5, 1, 8, 9, 2, 1, 2, 4, 5, 8, 9, 6, 1, 2, 3, 4, 5, 6, 7, 9, 10, 5, 10, 4, 2, 10, 3, 9, 3, 5, 7, 3, 10, 10, 4, 5, 1, 9, 4, 1, 2, 9, 1, 8, 7, 5, 7, 1, 5, 3, 1, 2, 3, 4, 9, 2, 10, 1, 4, 4, 7, 6, 7, 1, 10, 6, 3, 2, 3, 3, 4, 5, 4, 6, 4, 6, 7, 6, 3, 4, 10, 5, 2, 6, 8, 5, 2, 4, 9, 1, 2, 2, 3, 6, 6, 6, 3, 4, 1, 4, 6, 4, 6, 7, 6, 3, 4, 8, 7, 9, 4, 8, 9, 3, 9, 4, 6, 7, 3, 5, 3, 6, 3, 9, 10, 6, 9, 6, 9, 5, 1, 5, 5, 5, 10, 9, 3, 9, 8, 7, 10, 8, 8, 10, 10, 5, 6, 7, 3, 1, 2, 3, 6, 1, 2, 3, 4, 5, 6, 7, 8, 5, 6, 4, 7, 8, 6, 3, 4, 10, 4, 6, 7, 1, 7, 6, 3, 2, 3, 5, 2, 8, 7, 10, 10, 5, 6, 8, 7], \"Freq\": [0.8660831633895989, 0.9604829084898425, 0.9527818514214258, 0.9450980443972885, 0.8019842608424245, 0.1603968521684849, 0.8794416838203268, 0.9137967818533683, 0.9336476617133834, 0.9201073300976608, 0.9507587089901712, 0.9259365184800148, 0.9453753165856374, 0.9272487602499168, 0.8617185314451637, 0.847223813871496, 0.971664453147867, 0.6718070868384447, 0.31614451145338573, 0.9225117355480748, 0.9881569769840637, 0.9602597624245492, 0.9394762747570518, 0.9585636931914018, 0.8902814759164175, 0.8762872267894253, 0.11199466678515069, 0.6719680007109041, 0.18665777797525115, 0.7190395375841794, 0.2649093033204872, 0.9127204100075842, 0.9642064195410637, 0.9081111345226991, 0.9505171291697312, 0.9455324808382214, 0.96685982887112, 0.9857415533631604, 0.9744263183862334, 0.921810580007962, 0.9573204341667453, 0.9353372017286046, 0.824577620097631, 0.9303173207597352, 0.961274483335552, 0.8944009413245851, 0.7723284703749951, 0.9676838653093863, 0.9140988697047658, 0.977785747376336, 0.8796346640243302, 0.8527082873682772, 0.9170631165197687, 0.8627002551372487, 0.9502211783115706, 0.8965954087257806, 0.8077114623488697, 0.5111973035600531, 0.46007757320404774, 0.9012562388754983, 0.08921232219611427, 0.1695034121726171, 0.4192979143217371, 0.0981335544157257, 0.14273971551378284, 0.08029108997650285, 0.2585480193219744, 0.1292740096609872, 0.5946604444405412, 0.9208011141695349, 0.9892397602953934, 0.9033950342178461, 0.9459571859292586, 0.976370948210344, 0.9898030796718318, 0.9700206077557145, 0.9838047566524236, 0.9073969441310407, 0.9546164423401398, 0.943659730340381, 0.9038308838094943, 0.3516725948486814, 0.1650708098269321, 0.4736814542859791, 0.9342886807242844, 0.9078812502972695, 0.9061808059775364, 0.9452317955908556, 0.9549327624907729, 0.9154026455061467, 0.9527571204683007, 0.9374408641259244, 0.9467924140583999, 0.9585269619303476, 0.9159076182655307, 0.9251284898543236, 0.9619999167750325, 0.7787958753584517, 0.8416425119942522, 0.900262422919538, 0.9207505501305698, 0.9141185221630551, 0.9544853306273109, 0.8611498914275288, 0.8998432186732016, 0.7627860478194874, 0.16950801062655277, 0.9470973065186191, 0.9368571300309604, 0.9065322383597276, 0.9904423561500096, 0.8627526936438368, 0.8165201149467697, 0.8977920869093241, 0.9046988742897801, 0.9292813531777109, 0.8781671137433142, 0.9780579949791314, 0.8986605554220611, 0.8080319592808591, 0.9548225810308266, 0.9504412438198806, 0.6046441318870619, 0.21987059341347706, 0.1649029450601078, 0.37616591929710064, 0.595596038887076, 0.056024553448806046, 0.16807366034641813, 0.7283191948344786, 0.5138713598888185, 0.3425809065925457, 0.12235032378305202, 0.9582922887484626, 0.9260119776703856, 0.9508785716782723, 0.4878703768261912, 0.4435185243874466, 0.9499492127681572, 0.9287220874118775, 0.8283780481946381, 0.9778022832391418, 0.9081387346123482, 0.8198967313688718, 0.9585653170697565, 0.8933143553979973, 0.8251654502326689, 0.9563041089074361, 0.9156688164334499, 0.9588220463098849, 0.9316551954100281, 0.6032324689825623, 0.33512914943475686, 0.9229365600932676, 0.931894138923352, 0.9044427323021342, 0.9349814243996212, 0.9793823188472593, 0.9638320548069866, 0.8587982870223497, 0.8963865767791065, 0.9268604089377546, 0.832351324558717, 0.8588790531882672, 0.9052331151077022, 0.8703783427284987, 0.9583338004951675, 0.9248424366168857, 0.9044227391354966, 0.9257727761213171, 0.9129220141814026, 0.9721689043681663, 0.9681742805664791, 0.9441776369551179, 0.9840119865066771, 0.9849586755980447, 0.8613672286164542, 0.9742152081127835, 0.8166083055727, 0.9165816961482813, 0.9353014314432359, 0.9129994243871618, 0.9509676785188402, 0.9523296730022226, 0.8929804495172566, 0.8676829687366606, 0.7796906737535455, 0.9610921680037203, 0.8979485839325275, 0.8374116093896218, 0.09851901286936728, 0.9687172672013454, 0.771754167093703, 0.8722750829955718, 0.8719764590075958, 0.8818159296976039, 0.895240610538019, 0.9183530289327119, 0.8740662041611679, 0.8628729911925229, 0.8384457678847715, 0.9543661230471698, 0.9528988094732703, 0.9457031535069066, 0.9211637116569862, 0.9324731375786215, 0.8994788619330664, 0.9565589535384772, 0.9042319450833007, 0.8087087192377547, 0.31824247120848614, 0.6819481525896132, 0.9181024974238369, 0.9869279207355002, 0.905876402596286, 0.8043158298933495, 0.9194212363760748, 0.9659493348987414, 0.8893055023080387, 0.8398745247919247, 0.8527779099550206, 0.909957172193715, 0.8442900751493359, 0.962249126878705, 0.8127818812959494, 0.9046227527879779, 0.9345040919678259, 0.3057683477382579, 0.21583648075641734, 0.21583648075641734, 0.2697956009455217, 0.9596633849070902, 0.9245379855364628, 0.3465700388988241, 0.16528724932097766, 0.14218258006105605, 0.13507345105800325, 0.07642313678281763, 0.021327387009158406, 0.05154118527213282, 0.021327387009158406, 0.03910020951679041, 0.7344958279309913, 0.24483194264366376, 0.9402723162374821, 0.9356913662638022, 0.981856523594849, 0.9252975397683476, 0.9356672059208965, 0.8938541652326171, 0.9222086343593748, 0.953171102417377, 0.9689450234168271, 0.9517510633820602, 0.8571401712846328, 0.9039573333933806, 0.8366075588584829, 0.9221448739430914, 0.8440641375366651, 0.9420408379136977, 0.8982916535633263, 0.9636472837998875, 0.8616048101996112, 0.8511729586630834, 0.9675406323758473, 0.9349911921047173, 0.9364844204293109, 0.8775020165139266, 0.777176325808224, 0.22205037880234973, 0.914298096677151, 0.4434086427318423, 0.25552362462512945, 0.02254620217280554, 0.14279261376110175, 0.12776181231256473, 0.9499167793029446, 0.9651912475215177, 0.8032296819707171, 0.9475621823101742, 0.9431386932272863, 0.9829513482780992, 0.9826758342382806, 0.872495679409908, 0.3779230364222147, 0.6046768582755435, 0.8965190244418416, 0.9854538372190638, 0.35291928476911694, 0.605004488175629, 0.806260474026981, 0.18606010939084178, 0.8811846675375132, 0.9939668787727741, 0.8482198580256071, 0.28187602260012107, 0.46979337100020174, 0.1879173484000807, 0.902602159832481, 0.9775949074313447, 0.9670796693050736, 0.9304242624720502, 0.9184833318639255, 0.847281387981988, 0.9141615207707349, 0.9677805112659995, 0.984831380624209, 0.9728415215927279, 0.8836534369146068, 0.8757888860764782, 0.9754845934648103, 0.9403499433025437, 0.9501056194390032, 0.9491325532742534, 0.8238953963151825, 0.9244957925686987, 0.8781067195105492, 0.9082937739822271, 0.8947097380329255, 0.5339471359418634, 0.2755856185506392, 0.18946511275356442, 0.8999466848782663, 0.8769253790840201, 0.8723689316633807, 0.844406488802692, 0.9334747603029903, 0.9613574190494977, 0.8641266635681738, 0.9175717643052866, 0.8255970600863934, 0.819733769390383, 0.8419528930188763, 0.922836531873497, 0.9710884782041064, 0.9314762091091909, 0.44206730559680657, 0.5157451898629409, 0.8731472814499583, 0.6295591047656486, 0.3703288851562639, 0.30286381641008525, 0.6898564707118608, 0.974156032128524, 0.9576614664485638, 0.9753938536469, 0.19911822227328613, 0.7964728890931445, 0.8265945641258885, 0.16531891282517772, 0.8858816200146767, 0.9633800052922972, 0.9491726761174287, 0.9494686999675, 0.8973668954014559, 0.8830337810313514, 0.8106510029273377, 0.9165816961482813, 0.9565515347552268, 0.9298531066862102, 0.970771756686362, 0.8185319846592688, 0.9609349329825012, 0.9840415794254472, 0.9445414263476389, 0.8197764990884093, 0.9802888627247985, 0.8849856187515494, 0.09833173541683882, 0.926180829935762, 0.3534482461048348, 0.07312722333203478, 0.07312722333203478, 0.49970269276890433, 0.29329160183836944, 0.16460242960316654, 0.20650122986579075, 0.13467471512986354, 0.06284820039393632, 0.034416871644298457, 0.09576868631456963, 0.008978314341990902, 0.9351969223965169, 0.9097404420155852, 0.8113664364367364, 0.9819487522821131, 0.9749748593912008, 0.8650428196230975, 0.869874545144351, 0.9595679973976082, 0.9575130109005647, 0.9080282079814186, 0.9632124044645423, 0.9179457885918342, 0.7751895058868262, 0.22148271596766464, 0.7987215066940877, 0.9286438365471797, 0.08088396694489708, 0.24265190083469124, 0.6875137190316252, 0.7523185827210984, 0.208977384089194, 0.9096683775633562, 0.9312692927004298, 0.9659011981406972, 0.45611016728113757, 0.5366001968013383, 0.8530594195425989, 0.9592571677319405], \"Term\": [\"absolutely\", \"accord\", \"add\", \"additional\", \"administer\", \"administer\", \"admit\", \"ago\", \"agree\", \"ahead\", \"allow\", \"amp\", \"announce\", \"answer\", \"apart\", \"appointment\", \"approval\", \"approve\", \"approve\", \"arm\", \"arrive\", \"article\", \"ask\", \"available\", \"base\", \"batch\", \"be\", \"be\", \"be\", \"begin\", \"begin\", \"believe\", \"better\", \"big\", \"book\", \"break\", \"bring\", \"buy\", \"campaign\", \"cancel\", \"care\", \"case\", \"cell\", \"change\", \"check\", \"choose\", \"claim\", \"clinical\", \"colleague\", \"come\", \"community\", \"company\", \"complete\", \"completely\", \"concern\", \"cost\", \"cou\", \"country\", \"country\", \"course\", \"covid\", \"covid\", \"covid\", \"covid\", \"covid\", \"covid\", \"covidvaccine\", \"covidvaccine\", \"covidvaccine\", \"datum\", \"day\", \"death\", \"delay\", \"delivery\", \"develop\", \"development\", \"die\", \"difference\", \"different\", \"distribute\", \"doctor\", \"dose\", \"dose\", \"dose\", \"doubt\", \"drive\", \"early\", \"easy\", \"effect\", \"effective\", \"efficacy\", \"elderly\", \"emergency\", \"encourage\", \"end\", \"europeanunion\", \"evidence\", \"evil\", \"excited\", \"expect\", \"experience\", \"expert\", \"extra\", \"face\", \"fact\", \"faint\", \"faint\", \"family\", \"far\", \"fear\", \"feel\", \"fellow\", \"fight\", \"finally\", \"fine\", \"flu\", \"folk\", \"follow\", \"food\", \"forward\", \"free\", \"friend\", \"get\", \"get\", \"get\", \"give\", \"give\", \"go\", \"go\", \"go\", \"good\", \"good\", \"good\", \"government\", \"grant\", \"grateful\", \"great\", \"great\", \"happen\", \"happy\", \"hard\", \"have\", \"health\", \"healthy\", \"help\", \"here\", \"history\", \"hit\", \"home\", \"hope\", \"hopefully\", \"hospital\", \"hospital\", \"hour\", \"httpstco\", \"httpstcoa\", \"httpstcou\", \"huge\", \"human\", \"humble\", \"immunity\", \"include\", \"incredibly\", \"inform\", \"information\", \"ingredient\", \"injection\", \"inoculate\", \"inoculation\", \"interesting\", \"investigate\", \"know\", \"late\", \"launch\", \"lead\", \"let\", \"lie\", \"life\", \"light\", \"light_end\", \"line\", \"link\", \"list\", \"little\", \"live\", \"local\", \"lockdown\", \"look\", \"love\", \"make\", \"make\", \"malice\", \"manage\", \"mass\", \"matthancock\", \"mean\", \"measle\", \"medical\", \"medicine\", \"medium\", \"meeting\", \"member\", \"mhragovuk\", \"million\", \"modernavaccine\", \"money\", \"month\", \"morning\", \"move\", \"mutation\", \"need\", \"need\", \"nejm\", \"new\", \"news\", \"night\", \"number\", \"nurse\", \"nursing\", \"offer\", \"officially\", \"old\", \"online\", \"order\", \"pahowho\", \"pandemic\", \"patient\", \"people\", \"people\", \"people\", \"people\", \"person\", \"pfizer\", \"pfizerbiontech\", \"pfizerbiontech\", \"pfizerbiontech\", \"pfizerbiontech\", \"pfizerbiontech\", \"pfizerbiontech\", \"pfizerbiontech\", \"pfizerbiontech\", \"pfizerbiontech\", \"pfizervaccine\", \"pfizervaccine\", \"pharmacy\", \"phase\", \"plan\", \"point\", \"population\", \"pose\", \"positive\", \"possible\", \"post\", \"present\", \"process\", \"produce\", \"professional\", \"protect\", \"proud\", \"provide\", \"public\", \"question\", \"rabie\", \"reach\", \"reaction\", \"read\", \"ready\", \"real\", \"realdonaldtrump\", \"realdonaldtrump\", \"really\", \"receive\", \"receive\", \"receive\", \"receive\", \"receive\", \"recommend\", \"record\", \"refuse\", \"regulator\", \"report\", \"researcher\", \"resident\", \"result\", \"right\", \"right\", \"risk\", \"roll\", \"s\", \"s\", \"safe\", \"safe\", \"safety\", \"say\", \"scared\", \"science\", \"science\", \"science\", \"scientific\", \"scientist\", \"second\", \"see\", \"send\", \"set\", \"share\", \"shift\", \"shoot\", \"shot\", \"site\", \"social\", \"soon\", \"sore\", \"soreness\", \"source\", \"speed\", \"spend\", \"spread\", \"staff\", \"standard\", \"start\", \"start\", \"start\", \"state\", \"statement\", \"stay\", \"step\", \"stop\", \"strain\", \"suffer\", \"suggest\", \"super\", \"supply\", \"support\", \"symptom\", \"take\", \"talk\", \"team\", \"team\", \"tell\", \"test\", \"test\", \"thank\", \"thank\", \"thankful\", \"thing\", \"think\", \"time\", \"time\", \"today\", \"today\", \"tomorrow\", \"total\", \"trial\", \"true\", \"trump\", \"trust\", \"try\", \"tunnel\", \"turn\", \"tv\", \"tweet\", \"twice\", \"update\", \"use\", \"usual\", \"vacc\", \"vaccin\", \"vaccinate\", \"vaccinate\", \"vaccinated\", \"vaccination\", \"vaccination\", \"vaccination\", \"vaccination\", \"vaccine\", \"vaccine\", \"vaccine\", \"vaccine\", \"vaccine\", \"vaccine\", \"vaccine\", \"vaccine\", \"vaccineswork\", \"variant\", \"vial\", \"virus\", \"volunteer\", \"vote\", \"vulnerable\", \"wait\", \"want\", \"watch\", \"way\", \"wear\", \"week\", \"week\", \"well\", \"woman\", \"work\", \"work\", \"work\", \"worker\", \"worker\", \"world\", \"worry\", \"would\", \"year\", \"year\", \"yearold\", \"yesterday\"]}, \"R\": 30, \"lambda.step\": 0.01, \"plot.opts\": {\"xlab\": \"PC1\", \"ylab\": \"PC2\"}, \"topic.order\": [10, 8, 1, 6, 4, 3, 9, 5, 7, 2]};\n",
              "\n",
              "function LDAvis_load_lib(url, callback){\n",
              "  var s = document.createElement('script');\n",
              "  s.src = url;\n",
              "  s.async = true;\n",
              "  s.onreadystatechange = s.onload = callback;\n",
              "  s.onerror = function(){console.warn(\"failed to load library \" + url);};\n",
              "  document.getElementsByTagName(\"head\")[0].appendChild(s);\n",
              "}\n",
              "\n",
              "if(typeof(LDAvis) !== \"undefined\"){\n",
              "   // already loaded: just create the visualization\n",
              "   !function(LDAvis){\n",
              "       new LDAvis(\"#\" + \"ldavis_el661401935423813921273661117\", ldavis_el661401935423813921273661117_data);\n",
              "   }(LDAvis);\n",
              "}else if(typeof define === \"function\" && define.amd){\n",
              "   // require.js is available: use it to load d3/LDAvis\n",
              "   require.config({paths: {d3: \"https://cdnjs.cloudflare.com/ajax/libs/d3/3.5.5/d3.min\"}});\n",
              "   require([\"d3\"], function(d3){\n",
              "      window.d3 = d3;\n",
              "      LDAvis_load_lib(\"https://cdn.rawgit.com/bmabey/pyLDAvis/files/ldavis.v1.0.0.js\", function(){\n",
              "        new LDAvis(\"#\" + \"ldavis_el661401935423813921273661117\", ldavis_el661401935423813921273661117_data);\n",
              "      });\n",
              "    });\n",
              "}else{\n",
              "    // require.js not available: dynamically load d3 & LDAvis\n",
              "    LDAvis_load_lib(\"https://cdnjs.cloudflare.com/ajax/libs/d3/3.5.5/d3.min.js\", function(){\n",
              "         LDAvis_load_lib(\"https://cdn.rawgit.com/bmabey/pyLDAvis/files/ldavis.v1.0.0.js\", function(){\n",
              "                 new LDAvis(\"#\" + \"ldavis_el661401935423813921273661117\", ldavis_el661401935423813921273661117_data);\n",
              "            })\n",
              "         });\n",
              "}\n",
              "</script>"
            ]
          },
          "metadata": {},
          "execution_count": 128
        }
      ]
    }
  ]
}